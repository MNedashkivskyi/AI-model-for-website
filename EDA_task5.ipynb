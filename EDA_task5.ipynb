{
 "cells": [
  {
   "cell_type": "markdown",
   "metadata": {},
   "source": [
    "## Eksploracyjna analiza danych"
   ]
  },
  {
   "cell_type": "markdown",
   "metadata": {},
   "source": [
    "**Temat:**\n",
    "*„Mamy co prawda dodatkowe benefity dla naszych najlepszych klientów, ale może dałoby się ustalić kto potencjalnie jest skłonny wydawać u nas więcej?.”*"
   ]
  },
  {
   "cell_type": "markdown",
   "metadata": {},
   "source": [
    "## TRZEBA DODAĆ OPISY"
   ]
  },
  {
   "cell_type": "markdown",
   "metadata": {},
   "source": [
    "**Założenia:**\n",
    "- co to znaczy kupi \"więcej\"?\n",
    "    - w następnym analizowanym miesiącu kupi więcej o 100zł niż średnia z sesji? a może o 100zł więcej od tego co średnio w miesiącu? (klasyfikacja)\n",
    "    - zrobi jakikolwiek zakup (klasyfikacja)\n",
    "    - przewidzimy ile zapłaci w kolejnym okresie (regresja) - wymaga zastosowania logarytmowania etykiet\n",
    "    - przewidzimy o ile więcej zapłaci niż średnia (regresja)\n",
    "    - kupi więcej przedmiotu niż w ostanim okresie (nie patrzymy na ceny) - tego nie będziemy analizować, bo mało informatywne dla klienta\n"
   ]
  },
  {
   "cell_type": "markdown",
   "metadata": {},
   "source": [
    "## Myślę, że najlepiej robić klasyfikację"
   ]
  },
  {
   "cell_type": "markdown",
   "metadata": {},
   "source": [
    "Import pakietów"
   ]
  },
  {
   "cell_type": "code",
   "execution_count": 165,
   "metadata": {},
   "outputs": [],
   "source": [
    "import numpy as np\n",
    "import pandas as pd\n",
    "import sklearn\n",
    "import matplotlib.pyplot as plt\n",
    "import seaborn as sns\n",
    "import warnings\n",
    "warnings.filterwarnings('ignore')"
   ]
  },
  {
   "cell_type": "markdown",
   "metadata": {},
   "source": [
    "Wczytanie pliku *sessions* oraz analiza podstawowych charakterystyk."
   ]
  },
  {
   "cell_type": "code",
   "execution_count": 166,
   "metadata": {},
   "outputs": [
    {
     "name": "stdout",
     "output_type": "stream",
     "text": [
      "<class 'pandas.core.frame.DataFrame'>\n",
      "RangeIndex: 44345 entries, 0 to 44344\n",
      "Data columns (total 7 columns):\n",
      " #   Column            Non-Null Count  Dtype         \n",
      "---  ------            --------------  -----         \n",
      " 0   session_id        44345 non-null  int64         \n",
      " 1   timestamp         44345 non-null  datetime64[ns]\n",
      " 2   user_id           42169 non-null  float64       \n",
      " 3   product_id        42160 non-null  float64       \n",
      " 4   event_type        44345 non-null  object        \n",
      " 5   offered_discount  44345 non-null  int64         \n",
      " 6   purchase_id       3097 non-null   float64       \n",
      "dtypes: datetime64[ns](1), float64(3), int64(2), object(1)\n",
      "memory usage: 2.4+ MB\n",
      "None\n",
      "\n"
     ]
    },
    {
     "data": {
      "text/html": [
       "<div>\n",
       "<style scoped>\n",
       "    .dataframe tbody tr th:only-of-type {\n",
       "        vertical-align: middle;\n",
       "    }\n",
       "\n",
       "    .dataframe tbody tr th {\n",
       "        vertical-align: top;\n",
       "    }\n",
       "\n",
       "    .dataframe thead th {\n",
       "        text-align: right;\n",
       "    }\n",
       "</style>\n",
       "<table border=\"1\" class=\"dataframe\">\n",
       "  <thead>\n",
       "    <tr style=\"text-align: right;\">\n",
       "      <th></th>\n",
       "      <th>session_id</th>\n",
       "      <th>timestamp</th>\n",
       "      <th>user_id</th>\n",
       "      <th>product_id</th>\n",
       "      <th>event_type</th>\n",
       "      <th>offered_discount</th>\n",
       "      <th>purchase_id</th>\n",
       "    </tr>\n",
       "  </thead>\n",
       "  <tbody>\n",
       "    <tr>\n",
       "      <th>0</th>\n",
       "      <td>124</td>\n",
       "      <td>2022-01-10 00:55:41</td>\n",
       "      <td>102.0</td>\n",
       "      <td>1117.0</td>\n",
       "      <td>VIEW_PRODUCT</td>\n",
       "      <td>10</td>\n",
       "      <td>NaN</td>\n",
       "    </tr>\n",
       "    <tr>\n",
       "      <th>1</th>\n",
       "      <td>125</td>\n",
       "      <td>2022-03-08 19:21:47</td>\n",
       "      <td>102.0</td>\n",
       "      <td>1538.0</td>\n",
       "      <td>VIEW_PRODUCT</td>\n",
       "      <td>15</td>\n",
       "      <td>NaN</td>\n",
       "    </tr>\n",
       "    <tr>\n",
       "      <th>2</th>\n",
       "      <td>125</td>\n",
       "      <td>2022-03-08 19:23:58</td>\n",
       "      <td>102.0</td>\n",
       "      <td>1539.0</td>\n",
       "      <td>VIEW_PRODUCT</td>\n",
       "      <td>15</td>\n",
       "      <td>NaN</td>\n",
       "    </tr>\n",
       "    <tr>\n",
       "      <th>3</th>\n",
       "      <td>125</td>\n",
       "      <td>2022-03-08 19:27:27</td>\n",
       "      <td>102.0</td>\n",
       "      <td>1545.0</td>\n",
       "      <td>VIEW_PRODUCT</td>\n",
       "      <td>15</td>\n",
       "      <td>NaN</td>\n",
       "    </tr>\n",
       "    <tr>\n",
       "      <th>4</th>\n",
       "      <td>125</td>\n",
       "      <td>2022-03-08 19:30:22</td>\n",
       "      <td>102.0</td>\n",
       "      <td>1541.0</td>\n",
       "      <td>VIEW_PRODUCT</td>\n",
       "      <td>15</td>\n",
       "      <td>NaN</td>\n",
       "    </tr>\n",
       "  </tbody>\n",
       "</table>\n",
       "</div>"
      ],
      "text/plain": [
       "   session_id           timestamp  user_id  product_id    event_type  \\\n",
       "0         124 2022-01-10 00:55:41    102.0      1117.0  VIEW_PRODUCT   \n",
       "1         125 2022-03-08 19:21:47    102.0      1538.0  VIEW_PRODUCT   \n",
       "2         125 2022-03-08 19:23:58    102.0      1539.0  VIEW_PRODUCT   \n",
       "3         125 2022-03-08 19:27:27    102.0      1545.0  VIEW_PRODUCT   \n",
       "4         125 2022-03-08 19:30:22    102.0      1541.0  VIEW_PRODUCT   \n",
       "\n",
       "   offered_discount  purchase_id  \n",
       "0                10          NaN  \n",
       "1                15          NaN  \n",
       "2                15          NaN  \n",
       "3                15          NaN  \n",
       "4                15          NaN  "
      ]
     },
     "execution_count": 166,
     "metadata": {},
     "output_type": "execute_result"
    }
   ],
   "source": [
    "session_df = pd.read_json('data/sessions.jsonl', lines=True)\n",
    "\n",
    "print(session_df.info(), end='\\n\\n')\n",
    "session_df.head()"
   ]
  },
  {
   "cell_type": "code",
   "execution_count": 167,
   "metadata": {},
   "outputs": [],
   "source": [
    "session_df['event_type']=session_df['event_type'].map({'VIEW_PRODUCT': 0 , 'BUY_PRODUCT':1})"
   ]
  },
  {
   "cell_type": "code",
   "execution_count": 168,
   "metadata": {},
   "outputs": [
    {
     "name": "stdout",
     "output_type": "stream",
     "text": [
      "<class 'pandas.core.frame.DataFrame'>\n",
      "RangeIndex: 653 entries, 0 to 652\n",
      "Data columns (total 7 columns):\n",
      " #   Column               Non-Null Count  Dtype  \n",
      "---  ------               --------------  -----  \n",
      " 0   product_id           653 non-null    int64  \n",
      " 1   product_name         653 non-null    object \n",
      " 2   category_path        653 non-null    object \n",
      " 3   price                653 non-null    float64\n",
      " 4   brand                653 non-null    object \n",
      " 5   weight_kg            653 non-null    float64\n",
      " 6   optional_attributes  653 non-null    object \n",
      "dtypes: float64(2), int64(1), object(4)\n",
      "memory usage: 35.8+ KB\n",
      "None\n",
      "\n"
     ]
    },
    {
     "data": {
      "text/html": [
       "<div>\n",
       "<style scoped>\n",
       "    .dataframe tbody tr th:only-of-type {\n",
       "        vertical-align: middle;\n",
       "    }\n",
       "\n",
       "    .dataframe tbody tr th {\n",
       "        vertical-align: top;\n",
       "    }\n",
       "\n",
       "    .dataframe thead th {\n",
       "        text-align: right;\n",
       "    }\n",
       "</style>\n",
       "<table border=\"1\" class=\"dataframe\">\n",
       "  <thead>\n",
       "    <tr style=\"text-align: right;\">\n",
       "      <th></th>\n",
       "      <th>product_id</th>\n",
       "      <th>product_name</th>\n",
       "      <th>category_path</th>\n",
       "      <th>price</th>\n",
       "      <th>brand</th>\n",
       "      <th>weight_kg</th>\n",
       "      <th>optional_attributes</th>\n",
       "    </tr>\n",
       "  </thead>\n",
       "  <tbody>\n",
       "    <tr>\n",
       "      <th>0</th>\n",
       "      <td>1001</td>\n",
       "      <td>Fotel gamingowy Sofotel Cerber</td>\n",
       "      <td>Akcesoria (Laptop, PC);Fotele gamingowe</td>\n",
       "      <td>619.99</td>\n",
       "      <td>Sofotel</td>\n",
       "      <td>19.0</td>\n",
       "      <td>{}</td>\n",
       "    </tr>\n",
       "    <tr>\n",
       "      <th>1</th>\n",
       "      <td>1002</td>\n",
       "      <td>Fotel gamingowy Sofotel Cerber</td>\n",
       "      <td>Akcesoria (Laptop, PC);Fotele gamingowe</td>\n",
       "      <td>599.99</td>\n",
       "      <td>Sofotel</td>\n",
       "      <td>19.0</td>\n",
       "      <td>{}</td>\n",
       "    </tr>\n",
       "    <tr>\n",
       "      <th>2</th>\n",
       "      <td>1003</td>\n",
       "      <td>Fotel gamingowy TopEshop DORY</td>\n",
       "      <td>Akcesoria (Laptop, PC);Fotele gamingowe</td>\n",
       "      <td>379.00</td>\n",
       "      <td>TopEshop</td>\n",
       "      <td>30.0</td>\n",
       "      <td>{}</td>\n",
       "    </tr>\n",
       "    <tr>\n",
       "      <th>3</th>\n",
       "      <td>1004</td>\n",
       "      <td>Fotel gamingowy Diablo Chairs WHITE BIEL BIAŁY</td>\n",
       "      <td>Akcesoria (Laptop, PC);Fotele gamingowe</td>\n",
       "      <td>197.00</td>\n",
       "      <td>Diablo Chairs</td>\n",
       "      <td>30.0</td>\n",
       "      <td>{}</td>\n",
       "    </tr>\n",
       "    <tr>\n",
       "      <th>4</th>\n",
       "      <td>1005</td>\n",
       "      <td>Fotel gamingowy STERNHOFF SDH 162 B+B</td>\n",
       "      <td>Akcesoria (Laptop, PC);Fotele gamingowe</td>\n",
       "      <td>-399.00</td>\n",
       "      <td>STERNHOFF</td>\n",
       "      <td>17.0</td>\n",
       "      <td>{}</td>\n",
       "    </tr>\n",
       "  </tbody>\n",
       "</table>\n",
       "</div>"
      ],
      "text/plain": [
       "   product_id                                    product_name  \\\n",
       "0        1001                  Fotel gamingowy Sofotel Cerber   \n",
       "1        1002                  Fotel gamingowy Sofotel Cerber   \n",
       "2        1003                   Fotel gamingowy TopEshop DORY   \n",
       "3        1004  Fotel gamingowy Diablo Chairs WHITE BIEL BIAŁY   \n",
       "4        1005           Fotel gamingowy STERNHOFF SDH 162 B+B   \n",
       "\n",
       "                             category_path   price          brand  weight_kg  \\\n",
       "0  Akcesoria (Laptop, PC);Fotele gamingowe  619.99        Sofotel       19.0   \n",
       "1  Akcesoria (Laptop, PC);Fotele gamingowe  599.99        Sofotel       19.0   \n",
       "2  Akcesoria (Laptop, PC);Fotele gamingowe  379.00       TopEshop       30.0   \n",
       "3  Akcesoria (Laptop, PC);Fotele gamingowe  197.00  Diablo Chairs       30.0   \n",
       "4  Akcesoria (Laptop, PC);Fotele gamingowe -399.00      STERNHOFF       17.0   \n",
       "\n",
       "  optional_attributes  \n",
       "0                  {}  \n",
       "1                  {}  \n",
       "2                  {}  \n",
       "3                  {}  \n",
       "4                  {}  "
      ]
     },
     "execution_count": 168,
     "metadata": {},
     "output_type": "execute_result"
    }
   ],
   "source": [
    "product_df = pd.read_json('data/products.jsonl', lines=True)\n",
    "\n",
    "print(product_df.info(), end='\\n\\n')\n",
    "product_df.head()"
   ]
  },
  {
   "cell_type": "code",
   "execution_count": 169,
   "metadata": {},
   "outputs": [],
   "source": [
    "df=session_df.merge(product_df, how='inner', on='product_id')"
   ]
  },
  {
   "cell_type": "code",
   "execution_count": 170,
   "metadata": {},
   "outputs": [
    {
     "data": {
      "text/plain": [
       "Index(['session_id', 'timestamp', 'user_id', 'product_id', 'event_type',\n",
       "       'offered_discount', 'purchase_id', 'product_name', 'category_path',\n",
       "       'price', 'brand', 'weight_kg', 'optional_attributes'],\n",
       "      dtype='object')"
      ]
     },
     "execution_count": 170,
     "metadata": {},
     "output_type": "execute_result"
    }
   ],
   "source": [
    "df.columns"
   ]
  },
  {
   "cell_type": "code",
   "execution_count": 171,
   "metadata": {},
   "outputs": [],
   "source": [
    "df=df[['session_id', 'timestamp', 'user_id', 'product_id', 'event_type',\n",
    "       'offered_discount', 'price']]"
   ]
  },
  {
   "cell_type": "code",
   "execution_count": 172,
   "metadata": {},
   "outputs": [],
   "source": [
    "df['timestamp']=pd.to_datetime(df.timestamp)\n",
    "df['month'] = df['timestamp'].dt.month"
   ]
  },
  {
   "cell_type": "code",
   "execution_count": 173,
   "metadata": {},
   "outputs": [
    {
     "data": {
      "text/html": [
       "<div>\n",
       "<style scoped>\n",
       "    .dataframe tbody tr th:only-of-type {\n",
       "        vertical-align: middle;\n",
       "    }\n",
       "\n",
       "    .dataframe tbody tr th {\n",
       "        vertical-align: top;\n",
       "    }\n",
       "\n",
       "    .dataframe thead th {\n",
       "        text-align: right;\n",
       "    }\n",
       "</style>\n",
       "<table border=\"1\" class=\"dataframe\">\n",
       "  <thead>\n",
       "    <tr style=\"text-align: right;\">\n",
       "      <th></th>\n",
       "      <th>session_id</th>\n",
       "      <th>timestamp</th>\n",
       "      <th>user_id</th>\n",
       "      <th>product_id</th>\n",
       "      <th>event_type</th>\n",
       "      <th>offered_discount</th>\n",
       "      <th>price</th>\n",
       "      <th>month</th>\n",
       "    </tr>\n",
       "  </thead>\n",
       "  <tbody>\n",
       "    <tr>\n",
       "      <th>0</th>\n",
       "      <td>124</td>\n",
       "      <td>2022-01-10 00:55:41</td>\n",
       "      <td>102.0</td>\n",
       "      <td>1117.0</td>\n",
       "      <td>0</td>\n",
       "      <td>10</td>\n",
       "      <td>22.99</td>\n",
       "      <td>1</td>\n",
       "    </tr>\n",
       "    <tr>\n",
       "      <th>1</th>\n",
       "      <td>156</td>\n",
       "      <td>2022-03-13 10:37:35</td>\n",
       "      <td>NaN</td>\n",
       "      <td>1117.0</td>\n",
       "      <td>0</td>\n",
       "      <td>5</td>\n",
       "      <td>22.99</td>\n",
       "      <td>3</td>\n",
       "    </tr>\n",
       "    <tr>\n",
       "      <th>2</th>\n",
       "      <td>164</td>\n",
       "      <td>2022-01-01 16:10:45</td>\n",
       "      <td>102.0</td>\n",
       "      <td>1117.0</td>\n",
       "      <td>0</td>\n",
       "      <td>10</td>\n",
       "      <td>22.99</td>\n",
       "      <td>1</td>\n",
       "    </tr>\n",
       "    <tr>\n",
       "      <th>3</th>\n",
       "      <td>182</td>\n",
       "      <td>2022-03-02 00:29:05</td>\n",
       "      <td>102.0</td>\n",
       "      <td>1117.0</td>\n",
       "      <td>0</td>\n",
       "      <td>5</td>\n",
       "      <td>22.99</td>\n",
       "      <td>3</td>\n",
       "    </tr>\n",
       "    <tr>\n",
       "      <th>4</th>\n",
       "      <td>183</td>\n",
       "      <td>2022-02-27 11:17:54</td>\n",
       "      <td>102.0</td>\n",
       "      <td>1117.0</td>\n",
       "      <td>0</td>\n",
       "      <td>5</td>\n",
       "      <td>22.99</td>\n",
       "      <td>2</td>\n",
       "    </tr>\n",
       "    <tr>\n",
       "      <th>...</th>\n",
       "      <td>...</td>\n",
       "      <td>...</td>\n",
       "      <td>...</td>\n",
       "      <td>...</td>\n",
       "      <td>...</td>\n",
       "      <td>...</td>\n",
       "      <td>...</td>\n",
       "      <td>...</td>\n",
       "    </tr>\n",
       "    <tr>\n",
       "      <th>42155</th>\n",
       "      <td>10137</td>\n",
       "      <td>2022-01-18 20:50:42</td>\n",
       "      <td>299.0</td>\n",
       "      <td>1631.0</td>\n",
       "      <td>0</td>\n",
       "      <td>0</td>\n",
       "      <td>45.00</td>\n",
       "      <td>1</td>\n",
       "    </tr>\n",
       "    <tr>\n",
       "      <th>42156</th>\n",
       "      <td>10215</td>\n",
       "      <td>2022-02-16 05:15:41</td>\n",
       "      <td>300.0</td>\n",
       "      <td>1631.0</td>\n",
       "      <td>0</td>\n",
       "      <td>20</td>\n",
       "      <td>45.00</td>\n",
       "      <td>2</td>\n",
       "    </tr>\n",
       "    <tr>\n",
       "      <th>42157</th>\n",
       "      <td>10237</td>\n",
       "      <td>2022-03-16 23:03:14</td>\n",
       "      <td>301.0</td>\n",
       "      <td>1631.0</td>\n",
       "      <td>0</td>\n",
       "      <td>0</td>\n",
       "      <td>45.00</td>\n",
       "      <td>3</td>\n",
       "    </tr>\n",
       "    <tr>\n",
       "      <th>42158</th>\n",
       "      <td>10247</td>\n",
       "      <td>2022-02-25 20:35:47</td>\n",
       "      <td>301.0</td>\n",
       "      <td>1631.0</td>\n",
       "      <td>0</td>\n",
       "      <td>0</td>\n",
       "      <td>45.00</td>\n",
       "      <td>2</td>\n",
       "    </tr>\n",
       "    <tr>\n",
       "      <th>42159</th>\n",
       "      <td>10314</td>\n",
       "      <td>2022-01-02 09:24:56</td>\n",
       "      <td>301.0</td>\n",
       "      <td>1631.0</td>\n",
       "      <td>0</td>\n",
       "      <td>15</td>\n",
       "      <td>45.00</td>\n",
       "      <td>1</td>\n",
       "    </tr>\n",
       "  </tbody>\n",
       "</table>\n",
       "<p>42160 rows × 8 columns</p>\n",
       "</div>"
      ],
      "text/plain": [
       "       session_id           timestamp  user_id  product_id  event_type  \\\n",
       "0             124 2022-01-10 00:55:41    102.0      1117.0           0   \n",
       "1             156 2022-03-13 10:37:35      NaN      1117.0           0   \n",
       "2             164 2022-01-01 16:10:45    102.0      1117.0           0   \n",
       "3             182 2022-03-02 00:29:05    102.0      1117.0           0   \n",
       "4             183 2022-02-27 11:17:54    102.0      1117.0           0   \n",
       "...           ...                 ...      ...         ...         ...   \n",
       "42155       10137 2022-01-18 20:50:42    299.0      1631.0           0   \n",
       "42156       10215 2022-02-16 05:15:41    300.0      1631.0           0   \n",
       "42157       10237 2022-03-16 23:03:14    301.0      1631.0           0   \n",
       "42158       10247 2022-02-25 20:35:47    301.0      1631.0           0   \n",
       "42159       10314 2022-01-02 09:24:56    301.0      1631.0           0   \n",
       "\n",
       "       offered_discount  price  month  \n",
       "0                    10  22.99      1  \n",
       "1                     5  22.99      3  \n",
       "2                    10  22.99      1  \n",
       "3                     5  22.99      3  \n",
       "4                     5  22.99      2  \n",
       "...                 ...    ...    ...  \n",
       "42155                 0  45.00      1  \n",
       "42156                20  45.00      2  \n",
       "42157                 0  45.00      3  \n",
       "42158                 0  45.00      2  \n",
       "42159                15  45.00      1  \n",
       "\n",
       "[42160 rows x 8 columns]"
      ]
     },
     "execution_count": 173,
     "metadata": {},
     "output_type": "execute_result"
    }
   ],
   "source": [
    "df"
   ]
  },
  {
   "cell_type": "code",
   "execution_count": 174,
   "metadata": {},
   "outputs": [
    {
     "data": {
      "text/html": [
       "<div>\n",
       "<style scoped>\n",
       "    .dataframe tbody tr th:only-of-type {\n",
       "        vertical-align: middle;\n",
       "    }\n",
       "\n",
       "    .dataframe tbody tr th {\n",
       "        vertical-align: top;\n",
       "    }\n",
       "\n",
       "    .dataframe thead th {\n",
       "        text-align: right;\n",
       "    }\n",
       "</style>\n",
       "<table border=\"1\" class=\"dataframe\">\n",
       "  <thead>\n",
       "    <tr style=\"text-align: right;\">\n",
       "      <th></th>\n",
       "      <th>product_id</th>\n",
       "      <th>product_name</th>\n",
       "      <th>category_path</th>\n",
       "      <th>price</th>\n",
       "      <th>brand</th>\n",
       "      <th>weight_kg</th>\n",
       "      <th>optional_attributes</th>\n",
       "    </tr>\n",
       "  </thead>\n",
       "  <tbody>\n",
       "    <tr>\n",
       "      <th>543</th>\n",
       "      <td>1544</td>\n",
       "      <td>Pamięć RAM Patriot DDR4 64 GB 3200</td>\n",
       "      <td>Podzespoły komputerowe;Pamięć RAM</td>\n",
       "      <td>299800000.0</td>\n",
       "      <td>Patriot</td>\n",
       "      <td>0.091</td>\n",
       "      <td>{}</td>\n",
       "    </tr>\n",
       "  </tbody>\n",
       "</table>\n",
       "</div>"
      ],
      "text/plain": [
       "     product_id                        product_name  \\\n",
       "543        1544  Pamięć RAM Patriot DDR4 64 GB 3200   \n",
       "\n",
       "                         category_path        price    brand  weight_kg  \\\n",
       "543  Podzespoły komputerowe;Pamięć RAM  299800000.0  Patriot      0.091   \n",
       "\n",
       "    optional_attributes  \n",
       "543                  {}  "
      ]
     },
     "execution_count": 174,
     "metadata": {},
     "output_type": "execute_result"
    }
   ],
   "source": [
    "product_df[product_df.product_id==1544]  \n",
    "\n",
    "####### uwaga - niektóre produkty mają ujemne ceny, a niektóre są ogromne - trzeba sprawdzić ile takich jest\n",
    "###### czy jednostki są te same? - pytanie do klienta\n"
   ]
  },
  {
   "cell_type": "code",
   "execution_count": 175,
   "metadata": {},
   "outputs": [],
   "source": [
    "def f(event_type, price):\n",
    "    if event_type==1:\n",
    "        return price\n",
    "    else: \n",
    "        return 0\n",
    "    \n",
    "\n",
    "df['purchase']= df.apply(lambda x: f(x.event_type, x.price), axis=1)\n",
    "# drop 'price' column"
   ]
  },
  {
   "cell_type": "code",
   "execution_count": 176,
   "metadata": {},
   "outputs": [
    {
     "data": {
      "text/html": [
       "<div>\n",
       "<style scoped>\n",
       "    .dataframe tbody tr th:only-of-type {\n",
       "        vertical-align: middle;\n",
       "    }\n",
       "\n",
       "    .dataframe tbody tr th {\n",
       "        vertical-align: top;\n",
       "    }\n",
       "\n",
       "    .dataframe thead th {\n",
       "        text-align: right;\n",
       "    }\n",
       "</style>\n",
       "<table border=\"1\" class=\"dataframe\">\n",
       "  <thead>\n",
       "    <tr style=\"text-align: right;\">\n",
       "      <th></th>\n",
       "      <th>session_id</th>\n",
       "      <th>timestamp</th>\n",
       "      <th>user_id</th>\n",
       "      <th>product_id</th>\n",
       "      <th>event_type</th>\n",
       "      <th>offered_discount</th>\n",
       "      <th>price</th>\n",
       "      <th>month</th>\n",
       "      <th>purchase</th>\n",
       "    </tr>\n",
       "  </thead>\n",
       "  <tbody>\n",
       "    <tr>\n",
       "      <th>0</th>\n",
       "      <td>124</td>\n",
       "      <td>2022-01-10 00:55:41</td>\n",
       "      <td>102.0</td>\n",
       "      <td>1117.0</td>\n",
       "      <td>0</td>\n",
       "      <td>10</td>\n",
       "      <td>22.99</td>\n",
       "      <td>1</td>\n",
       "      <td>0.0</td>\n",
       "    </tr>\n",
       "    <tr>\n",
       "      <th>1</th>\n",
       "      <td>156</td>\n",
       "      <td>2022-03-13 10:37:35</td>\n",
       "      <td>NaN</td>\n",
       "      <td>1117.0</td>\n",
       "      <td>0</td>\n",
       "      <td>5</td>\n",
       "      <td>22.99</td>\n",
       "      <td>3</td>\n",
       "      <td>0.0</td>\n",
       "    </tr>\n",
       "    <tr>\n",
       "      <th>2</th>\n",
       "      <td>164</td>\n",
       "      <td>2022-01-01 16:10:45</td>\n",
       "      <td>102.0</td>\n",
       "      <td>1117.0</td>\n",
       "      <td>0</td>\n",
       "      <td>10</td>\n",
       "      <td>22.99</td>\n",
       "      <td>1</td>\n",
       "      <td>0.0</td>\n",
       "    </tr>\n",
       "    <tr>\n",
       "      <th>3</th>\n",
       "      <td>182</td>\n",
       "      <td>2022-03-02 00:29:05</td>\n",
       "      <td>102.0</td>\n",
       "      <td>1117.0</td>\n",
       "      <td>0</td>\n",
       "      <td>5</td>\n",
       "      <td>22.99</td>\n",
       "      <td>3</td>\n",
       "      <td>0.0</td>\n",
       "    </tr>\n",
       "    <tr>\n",
       "      <th>4</th>\n",
       "      <td>183</td>\n",
       "      <td>2022-02-27 11:17:54</td>\n",
       "      <td>102.0</td>\n",
       "      <td>1117.0</td>\n",
       "      <td>0</td>\n",
       "      <td>5</td>\n",
       "      <td>22.99</td>\n",
       "      <td>2</td>\n",
       "      <td>0.0</td>\n",
       "    </tr>\n",
       "    <tr>\n",
       "      <th>...</th>\n",
       "      <td>...</td>\n",
       "      <td>...</td>\n",
       "      <td>...</td>\n",
       "      <td>...</td>\n",
       "      <td>...</td>\n",
       "      <td>...</td>\n",
       "      <td>...</td>\n",
       "      <td>...</td>\n",
       "      <td>...</td>\n",
       "    </tr>\n",
       "    <tr>\n",
       "      <th>42155</th>\n",
       "      <td>10137</td>\n",
       "      <td>2022-01-18 20:50:42</td>\n",
       "      <td>299.0</td>\n",
       "      <td>1631.0</td>\n",
       "      <td>0</td>\n",
       "      <td>0</td>\n",
       "      <td>45.00</td>\n",
       "      <td>1</td>\n",
       "      <td>0.0</td>\n",
       "    </tr>\n",
       "    <tr>\n",
       "      <th>42156</th>\n",
       "      <td>10215</td>\n",
       "      <td>2022-02-16 05:15:41</td>\n",
       "      <td>300.0</td>\n",
       "      <td>1631.0</td>\n",
       "      <td>0</td>\n",
       "      <td>20</td>\n",
       "      <td>45.00</td>\n",
       "      <td>2</td>\n",
       "      <td>0.0</td>\n",
       "    </tr>\n",
       "    <tr>\n",
       "      <th>42157</th>\n",
       "      <td>10237</td>\n",
       "      <td>2022-03-16 23:03:14</td>\n",
       "      <td>301.0</td>\n",
       "      <td>1631.0</td>\n",
       "      <td>0</td>\n",
       "      <td>0</td>\n",
       "      <td>45.00</td>\n",
       "      <td>3</td>\n",
       "      <td>0.0</td>\n",
       "    </tr>\n",
       "    <tr>\n",
       "      <th>42158</th>\n",
       "      <td>10247</td>\n",
       "      <td>2022-02-25 20:35:47</td>\n",
       "      <td>301.0</td>\n",
       "      <td>1631.0</td>\n",
       "      <td>0</td>\n",
       "      <td>0</td>\n",
       "      <td>45.00</td>\n",
       "      <td>2</td>\n",
       "      <td>0.0</td>\n",
       "    </tr>\n",
       "    <tr>\n",
       "      <th>42159</th>\n",
       "      <td>10314</td>\n",
       "      <td>2022-01-02 09:24:56</td>\n",
       "      <td>301.0</td>\n",
       "      <td>1631.0</td>\n",
       "      <td>0</td>\n",
       "      <td>15</td>\n",
       "      <td>45.00</td>\n",
       "      <td>1</td>\n",
       "      <td>0.0</td>\n",
       "    </tr>\n",
       "  </tbody>\n",
       "</table>\n",
       "<p>42160 rows × 9 columns</p>\n",
       "</div>"
      ],
      "text/plain": [
       "       session_id           timestamp  user_id  product_id  event_type  \\\n",
       "0             124 2022-01-10 00:55:41    102.0      1117.0           0   \n",
       "1             156 2022-03-13 10:37:35      NaN      1117.0           0   \n",
       "2             164 2022-01-01 16:10:45    102.0      1117.0           0   \n",
       "3             182 2022-03-02 00:29:05    102.0      1117.0           0   \n",
       "4             183 2022-02-27 11:17:54    102.0      1117.0           0   \n",
       "...           ...                 ...      ...         ...         ...   \n",
       "42155       10137 2022-01-18 20:50:42    299.0      1631.0           0   \n",
       "42156       10215 2022-02-16 05:15:41    300.0      1631.0           0   \n",
       "42157       10237 2022-03-16 23:03:14    301.0      1631.0           0   \n",
       "42158       10247 2022-02-25 20:35:47    301.0      1631.0           0   \n",
       "42159       10314 2022-01-02 09:24:56    301.0      1631.0           0   \n",
       "\n",
       "       offered_discount  price  month  purchase  \n",
       "0                    10  22.99      1       0.0  \n",
       "1                     5  22.99      3       0.0  \n",
       "2                    10  22.99      1       0.0  \n",
       "3                     5  22.99      3       0.0  \n",
       "4                     5  22.99      2       0.0  \n",
       "...                 ...    ...    ...       ...  \n",
       "42155                 0  45.00      1       0.0  \n",
       "42156                20  45.00      2       0.0  \n",
       "42157                 0  45.00      3       0.0  \n",
       "42158                 0  45.00      2       0.0  \n",
       "42159                15  45.00      1       0.0  \n",
       "\n",
       "[42160 rows x 9 columns]"
      ]
     },
     "execution_count": 176,
     "metadata": {},
     "output_type": "execute_result"
    }
   ],
   "source": [
    "df"
   ]
  },
  {
   "cell_type": "code",
   "execution_count": 177,
   "metadata": {},
   "outputs": [],
   "source": [
    "# gdy będzie więcej danych zrobimy jeszcze zbiór val\n",
    "df_train = df[df.month!=3]\n",
    "df_test = df[df.month==3]"
   ]
  },
  {
   "cell_type": "code",
   "execution_count": 178,
   "metadata": {},
   "outputs": [
    {
     "data": {
      "text/html": [
       "<div>\n",
       "<style scoped>\n",
       "    .dataframe tbody tr th:only-of-type {\n",
       "        vertical-align: middle;\n",
       "    }\n",
       "\n",
       "    .dataframe tbody tr th {\n",
       "        vertical-align: top;\n",
       "    }\n",
       "\n",
       "    .dataframe thead th {\n",
       "        text-align: right;\n",
       "    }\n",
       "</style>\n",
       "<table border=\"1\" class=\"dataframe\">\n",
       "  <thead>\n",
       "    <tr style=\"text-align: right;\">\n",
       "      <th></th>\n",
       "      <th>session_id</th>\n",
       "      <th>timestamp</th>\n",
       "      <th>user_id</th>\n",
       "      <th>product_id</th>\n",
       "      <th>event_type</th>\n",
       "      <th>offered_discount</th>\n",
       "      <th>price</th>\n",
       "      <th>month</th>\n",
       "      <th>purchase</th>\n",
       "    </tr>\n",
       "  </thead>\n",
       "  <tbody>\n",
       "    <tr>\n",
       "      <th>1044</th>\n",
       "      <td>125</td>\n",
       "      <td>2022-03-08 19:35:12</td>\n",
       "      <td>102.0</td>\n",
       "      <td>1541.0</td>\n",
       "      <td>1</td>\n",
       "      <td>15</td>\n",
       "      <td>1.750000e+02</td>\n",
       "      <td>3</td>\n",
       "      <td>1.750000e+02</td>\n",
       "    </tr>\n",
       "    <tr>\n",
       "      <th>2927</th>\n",
       "      <td>189</td>\n",
       "      <td>2022-01-01 23:17:55</td>\n",
       "      <td>102.0</td>\n",
       "      <td>1154.0</td>\n",
       "      <td>1</td>\n",
       "      <td>10</td>\n",
       "      <td>6.553000e+02</td>\n",
       "      <td>1</td>\n",
       "      <td>6.553000e+02</td>\n",
       "    </tr>\n",
       "    <tr>\n",
       "      <th>3987</th>\n",
       "      <td>152</td>\n",
       "      <td>2022-02-14 02:56:43</td>\n",
       "      <td>102.0</td>\n",
       "      <td>1095.0</td>\n",
       "      <td>1</td>\n",
       "      <td>5</td>\n",
       "      <td>5.899000e+01</td>\n",
       "      <td>2</td>\n",
       "      <td>5.899000e+01</td>\n",
       "    </tr>\n",
       "    <tr>\n",
       "      <th>6117</th>\n",
       "      <td>181</td>\n",
       "      <td>2022-03-03 05:10:59</td>\n",
       "      <td>102.0</td>\n",
       "      <td>1601.0</td>\n",
       "      <td>1</td>\n",
       "      <td>20</td>\n",
       "      <td>7.990000e+02</td>\n",
       "      <td>3</td>\n",
       "      <td>7.990000e+02</td>\n",
       "    </tr>\n",
       "    <tr>\n",
       "      <th>6348</th>\n",
       "      <td>205</td>\n",
       "      <td>2022-01-15 08:25:23</td>\n",
       "      <td>102.0</td>\n",
       "      <td>1605.0</td>\n",
       "      <td>1</td>\n",
       "      <td>15</td>\n",
       "      <td>7.990000e+02</td>\n",
       "      <td>1</td>\n",
       "      <td>7.990000e+02</td>\n",
       "    </tr>\n",
       "    <tr>\n",
       "      <th>7043</th>\n",
       "      <td>159</td>\n",
       "      <td>2022-02-08 12:55:08</td>\n",
       "      <td>102.0</td>\n",
       "      <td>1599.0</td>\n",
       "      <td>1</td>\n",
       "      <td>0</td>\n",
       "      <td>5.489700e+02</td>\n",
       "      <td>2</td>\n",
       "      <td>5.489700e+02</td>\n",
       "    </tr>\n",
       "    <tr>\n",
       "      <th>7356</th>\n",
       "      <td>131</td>\n",
       "      <td>2022-03-17 08:49:29</td>\n",
       "      <td>102.0</td>\n",
       "      <td>1597.0</td>\n",
       "      <td>1</td>\n",
       "      <td>10</td>\n",
       "      <td>6.300000e+02</td>\n",
       "      <td>3</td>\n",
       "      <td>6.300000e+02</td>\n",
       "    </tr>\n",
       "    <tr>\n",
       "      <th>7696</th>\n",
       "      <td>132</td>\n",
       "      <td>2022-01-28 17:00:03</td>\n",
       "      <td>102.0</td>\n",
       "      <td>1653.0</td>\n",
       "      <td>1</td>\n",
       "      <td>0</td>\n",
       "      <td>7.700000e+01</td>\n",
       "      <td>1</td>\n",
       "      <td>7.700000e+01</td>\n",
       "    </tr>\n",
       "    <tr>\n",
       "      <th>7699</th>\n",
       "      <td>210</td>\n",
       "      <td>2022-02-12 22:20:10</td>\n",
       "      <td>102.0</td>\n",
       "      <td>1653.0</td>\n",
       "      <td>1</td>\n",
       "      <td>0</td>\n",
       "      <td>7.700000e+01</td>\n",
       "      <td>2</td>\n",
       "      <td>7.700000e+01</td>\n",
       "    </tr>\n",
       "    <tr>\n",
       "      <th>9120</th>\n",
       "      <td>137</td>\n",
       "      <td>2022-02-18 17:57:43</td>\n",
       "      <td>102.0</td>\n",
       "      <td>1593.0</td>\n",
       "      <td>1</td>\n",
       "      <td>20</td>\n",
       "      <td>4.790000e+02</td>\n",
       "      <td>2</td>\n",
       "      <td>4.790000e+02</td>\n",
       "    </tr>\n",
       "    <tr>\n",
       "      <th>11202</th>\n",
       "      <td>190</td>\n",
       "      <td>2022-02-23 16:16:20</td>\n",
       "      <td>102.0</td>\n",
       "      <td>1098.0</td>\n",
       "      <td>1</td>\n",
       "      <td>20</td>\n",
       "      <td>7.900000e+01</td>\n",
       "      <td>2</td>\n",
       "      <td>7.900000e+01</td>\n",
       "    </tr>\n",
       "    <tr>\n",
       "      <th>16504</th>\n",
       "      <td>178</td>\n",
       "      <td>2022-02-18 18:53:31</td>\n",
       "      <td>102.0</td>\n",
       "      <td>1471.0</td>\n",
       "      <td>1</td>\n",
       "      <td>20</td>\n",
       "      <td>1.111300e+02</td>\n",
       "      <td>2</td>\n",
       "      <td>1.111300e+02</td>\n",
       "    </tr>\n",
       "    <tr>\n",
       "      <th>18165</th>\n",
       "      <td>204</td>\n",
       "      <td>2022-01-04 19:21:00</td>\n",
       "      <td>102.0</td>\n",
       "      <td>1059.0</td>\n",
       "      <td>1</td>\n",
       "      <td>0</td>\n",
       "      <td>3.619900e+02</td>\n",
       "      <td>1</td>\n",
       "      <td>3.619900e+02</td>\n",
       "    </tr>\n",
       "    <tr>\n",
       "      <th>24598</th>\n",
       "      <td>191</td>\n",
       "      <td>2022-02-12 20:33:32</td>\n",
       "      <td>102.0</td>\n",
       "      <td>1169.0</td>\n",
       "      <td>1</td>\n",
       "      <td>20</td>\n",
       "      <td>2.999000e+01</td>\n",
       "      <td>2</td>\n",
       "      <td>2.999000e+01</td>\n",
       "    </tr>\n",
       "    <tr>\n",
       "      <th>27072</th>\n",
       "      <td>177</td>\n",
       "      <td>2022-03-01 04:45:36</td>\n",
       "      <td>102.0</td>\n",
       "      <td>1611.0</td>\n",
       "      <td>1</td>\n",
       "      <td>10</td>\n",
       "      <td>-9.700000e+01</td>\n",
       "      <td>3</td>\n",
       "      <td>-9.700000e+01</td>\n",
       "    </tr>\n",
       "    <tr>\n",
       "      <th>29645</th>\n",
       "      <td>187</td>\n",
       "      <td>2022-02-07 03:15:07</td>\n",
       "      <td>102.0</td>\n",
       "      <td>1093.0</td>\n",
       "      <td>1</td>\n",
       "      <td>0</td>\n",
       "      <td>-6.800000e+02</td>\n",
       "      <td>2</td>\n",
       "      <td>-6.800000e+02</td>\n",
       "    </tr>\n",
       "    <tr>\n",
       "      <th>31088</th>\n",
       "      <td>188</td>\n",
       "      <td>2022-01-07 08:20:41</td>\n",
       "      <td>102.0</td>\n",
       "      <td>1200.0</td>\n",
       "      <td>1</td>\n",
       "      <td>10</td>\n",
       "      <td>8.690000e+02</td>\n",
       "      <td>1</td>\n",
       "      <td>8.690000e+02</td>\n",
       "    </tr>\n",
       "    <tr>\n",
       "      <th>32818</th>\n",
       "      <td>193</td>\n",
       "      <td>2022-02-22 22:48:49</td>\n",
       "      <td>102.0</td>\n",
       "      <td>1328.0</td>\n",
       "      <td>1</td>\n",
       "      <td>5</td>\n",
       "      <td>2.390000e+02</td>\n",
       "      <td>2</td>\n",
       "      <td>2.390000e+02</td>\n",
       "    </tr>\n",
       "    <tr>\n",
       "      <th>33283</th>\n",
       "      <td>179</td>\n",
       "      <td>2022-03-21 16:33:53</td>\n",
       "      <td>102.0</td>\n",
       "      <td>1322.0</td>\n",
       "      <td>1</td>\n",
       "      <td>5</td>\n",
       "      <td>6.999000e+01</td>\n",
       "      <td>3</td>\n",
       "      <td>6.999000e+01</td>\n",
       "    </tr>\n",
       "    <tr>\n",
       "      <th>34020</th>\n",
       "      <td>206</td>\n",
       "      <td>2022-01-07 08:03:05</td>\n",
       "      <td>102.0</td>\n",
       "      <td>1544.0</td>\n",
       "      <td>1</td>\n",
       "      <td>0</td>\n",
       "      <td>2.998000e+08</td>\n",
       "      <td>1</td>\n",
       "      <td>2.998000e+08</td>\n",
       "    </tr>\n",
       "  </tbody>\n",
       "</table>\n",
       "</div>"
      ],
      "text/plain": [
       "       session_id           timestamp  user_id  product_id  event_type  \\\n",
       "1044          125 2022-03-08 19:35:12    102.0      1541.0           1   \n",
       "2927          189 2022-01-01 23:17:55    102.0      1154.0           1   \n",
       "3987          152 2022-02-14 02:56:43    102.0      1095.0           1   \n",
       "6117          181 2022-03-03 05:10:59    102.0      1601.0           1   \n",
       "6348          205 2022-01-15 08:25:23    102.0      1605.0           1   \n",
       "7043          159 2022-02-08 12:55:08    102.0      1599.0           1   \n",
       "7356          131 2022-03-17 08:49:29    102.0      1597.0           1   \n",
       "7696          132 2022-01-28 17:00:03    102.0      1653.0           1   \n",
       "7699          210 2022-02-12 22:20:10    102.0      1653.0           1   \n",
       "9120          137 2022-02-18 17:57:43    102.0      1593.0           1   \n",
       "11202         190 2022-02-23 16:16:20    102.0      1098.0           1   \n",
       "16504         178 2022-02-18 18:53:31    102.0      1471.0           1   \n",
       "18165         204 2022-01-04 19:21:00    102.0      1059.0           1   \n",
       "24598         191 2022-02-12 20:33:32    102.0      1169.0           1   \n",
       "27072         177 2022-03-01 04:45:36    102.0      1611.0           1   \n",
       "29645         187 2022-02-07 03:15:07    102.0      1093.0           1   \n",
       "31088         188 2022-01-07 08:20:41    102.0      1200.0           1   \n",
       "32818         193 2022-02-22 22:48:49    102.0      1328.0           1   \n",
       "33283         179 2022-03-21 16:33:53    102.0      1322.0           1   \n",
       "34020         206 2022-01-07 08:03:05    102.0      1544.0           1   \n",
       "\n",
       "       offered_discount         price  month      purchase  \n",
       "1044                 15  1.750000e+02      3  1.750000e+02  \n",
       "2927                 10  6.553000e+02      1  6.553000e+02  \n",
       "3987                  5  5.899000e+01      2  5.899000e+01  \n",
       "6117                 20  7.990000e+02      3  7.990000e+02  \n",
       "6348                 15  7.990000e+02      1  7.990000e+02  \n",
       "7043                  0  5.489700e+02      2  5.489700e+02  \n",
       "7356                 10  6.300000e+02      3  6.300000e+02  \n",
       "7696                  0  7.700000e+01      1  7.700000e+01  \n",
       "7699                  0  7.700000e+01      2  7.700000e+01  \n",
       "9120                 20  4.790000e+02      2  4.790000e+02  \n",
       "11202                20  7.900000e+01      2  7.900000e+01  \n",
       "16504                20  1.111300e+02      2  1.111300e+02  \n",
       "18165                 0  3.619900e+02      1  3.619900e+02  \n",
       "24598                20  2.999000e+01      2  2.999000e+01  \n",
       "27072                10 -9.700000e+01      3 -9.700000e+01  \n",
       "29645                 0 -6.800000e+02      2 -6.800000e+02  \n",
       "31088                10  8.690000e+02      1  8.690000e+02  \n",
       "32818                 5  2.390000e+02      2  2.390000e+02  \n",
       "33283                 5  6.999000e+01      3  6.999000e+01  \n",
       "34020                 0  2.998000e+08      1  2.998000e+08  "
      ]
     },
     "execution_count": 178,
     "metadata": {},
     "output_type": "execute_result"
    }
   ],
   "source": [
    "df.loc[(df.user_id==102.0) & (df.event_type==1)]"
   ]
  },
  {
   "cell_type": "code",
   "execution_count": 181,
   "metadata": {},
   "outputs": [
    {
     "data": {
      "text/html": [
       "<div>\n",
       "<style scoped>\n",
       "    .dataframe tbody tr th:only-of-type {\n",
       "        vertical-align: middle;\n",
       "    }\n",
       "\n",
       "    .dataframe tbody tr th {\n",
       "        vertical-align: top;\n",
       "    }\n",
       "\n",
       "    .dataframe thead th {\n",
       "        text-align: right;\n",
       "    }\n",
       "</style>\n",
       "<table border=\"1\" class=\"dataframe\">\n",
       "  <thead>\n",
       "    <tr style=\"text-align: right;\">\n",
       "      <th></th>\n",
       "      <th>session_id</th>\n",
       "      <th>timestamp</th>\n",
       "      <th>user_id</th>\n",
       "      <th>product_id</th>\n",
       "      <th>event_type</th>\n",
       "      <th>offered_discount</th>\n",
       "      <th>price</th>\n",
       "      <th>month</th>\n",
       "      <th>purchase</th>\n",
       "    </tr>\n",
       "  </thead>\n",
       "  <tbody>\n",
       "    <tr>\n",
       "      <th>0</th>\n",
       "      <td>124</td>\n",
       "      <td>2022-01-10 00:55:41</td>\n",
       "      <td>102.0</td>\n",
       "      <td>1117.0</td>\n",
       "      <td>0</td>\n",
       "      <td>10</td>\n",
       "      <td>22.99</td>\n",
       "      <td>1</td>\n",
       "      <td>0.0</td>\n",
       "    </tr>\n",
       "    <tr>\n",
       "      <th>2</th>\n",
       "      <td>164</td>\n",
       "      <td>2022-01-01 16:10:45</td>\n",
       "      <td>102.0</td>\n",
       "      <td>1117.0</td>\n",
       "      <td>0</td>\n",
       "      <td>10</td>\n",
       "      <td>22.99</td>\n",
       "      <td>1</td>\n",
       "      <td>0.0</td>\n",
       "    </tr>\n",
       "    <tr>\n",
       "      <th>4</th>\n",
       "      <td>183</td>\n",
       "      <td>2022-02-27 11:17:54</td>\n",
       "      <td>102.0</td>\n",
       "      <td>1117.0</td>\n",
       "      <td>0</td>\n",
       "      <td>5</td>\n",
       "      <td>22.99</td>\n",
       "      <td>2</td>\n",
       "      <td>0.0</td>\n",
       "    </tr>\n",
       "    <tr>\n",
       "      <th>265</th>\n",
       "      <td>186</td>\n",
       "      <td>2022-02-11 07:17:32</td>\n",
       "      <td>102.0</td>\n",
       "      <td>1538.0</td>\n",
       "      <td>0</td>\n",
       "      <td>0</td>\n",
       "      <td>589.00</td>\n",
       "      <td>2</td>\n",
       "      <td>0.0</td>\n",
       "    </tr>\n",
       "    <tr>\n",
       "      <th>266</th>\n",
       "      <td>197</td>\n",
       "      <td>2022-02-28 14:04:06</td>\n",
       "      <td>102.0</td>\n",
       "      <td>1538.0</td>\n",
       "      <td>0</td>\n",
       "      <td>5</td>\n",
       "      <td>589.00</td>\n",
       "      <td>2</td>\n",
       "      <td>0.0</td>\n",
       "    </tr>\n",
       "    <tr>\n",
       "      <th>...</th>\n",
       "      <td>...</td>\n",
       "      <td>...</td>\n",
       "      <td>...</td>\n",
       "      <td>...</td>\n",
       "      <td>...</td>\n",
       "      <td>...</td>\n",
       "      <td>...</td>\n",
       "      <td>...</td>\n",
       "      <td>...</td>\n",
       "    </tr>\n",
       "    <tr>\n",
       "      <th>40017</th>\n",
       "      <td>209</td>\n",
       "      <td>2022-02-01 23:30:50</td>\n",
       "      <td>102.0</td>\n",
       "      <td>1323.0</td>\n",
       "      <td>0</td>\n",
       "      <td>0</td>\n",
       "      <td>59.00</td>\n",
       "      <td>2</td>\n",
       "      <td>0.0</td>\n",
       "    </tr>\n",
       "    <tr>\n",
       "      <th>40257</th>\n",
       "      <td>209</td>\n",
       "      <td>2022-02-01 23:39:49</td>\n",
       "      <td>102.0</td>\n",
       "      <td>1327.0</td>\n",
       "      <td>0</td>\n",
       "      <td>0</td>\n",
       "      <td>116.99</td>\n",
       "      <td>2</td>\n",
       "      <td>0.0</td>\n",
       "    </tr>\n",
       "    <tr>\n",
       "      <th>40496</th>\n",
       "      <td>209</td>\n",
       "      <td>2022-02-01 23:42:20</td>\n",
       "      <td>102.0</td>\n",
       "      <td>1331.0</td>\n",
       "      <td>0</td>\n",
       "      <td>0</td>\n",
       "      <td>44.89</td>\n",
       "      <td>2</td>\n",
       "      <td>0.0</td>\n",
       "    </tr>\n",
       "    <tr>\n",
       "      <th>40736</th>\n",
       "      <td>209</td>\n",
       "      <td>2022-02-01 23:46:22</td>\n",
       "      <td>102.0</td>\n",
       "      <td>1330.0</td>\n",
       "      <td>0</td>\n",
       "      <td>0</td>\n",
       "      <td>247.27</td>\n",
       "      <td>2</td>\n",
       "      <td>0.0</td>\n",
       "    </tr>\n",
       "    <tr>\n",
       "      <th>40975</th>\n",
       "      <td>209</td>\n",
       "      <td>2022-02-01 23:57:13</td>\n",
       "      <td>102.0</td>\n",
       "      <td>1329.0</td>\n",
       "      <td>0</td>\n",
       "      <td>0</td>\n",
       "      <td>269.00</td>\n",
       "      <td>2</td>\n",
       "      <td>0.0</td>\n",
       "    </tr>\n",
       "  </tbody>\n",
       "</table>\n",
       "<p>289 rows × 9 columns</p>\n",
       "</div>"
      ],
      "text/plain": [
       "       session_id           timestamp  user_id  product_id  event_type  \\\n",
       "0             124 2022-01-10 00:55:41    102.0      1117.0           0   \n",
       "2             164 2022-01-01 16:10:45    102.0      1117.0           0   \n",
       "4             183 2022-02-27 11:17:54    102.0      1117.0           0   \n",
       "265           186 2022-02-11 07:17:32    102.0      1538.0           0   \n",
       "266           197 2022-02-28 14:04:06    102.0      1538.0           0   \n",
       "...           ...                 ...      ...         ...         ...   \n",
       "40017         209 2022-02-01 23:30:50    102.0      1323.0           0   \n",
       "40257         209 2022-02-01 23:39:49    102.0      1327.0           0   \n",
       "40496         209 2022-02-01 23:42:20    102.0      1331.0           0   \n",
       "40736         209 2022-02-01 23:46:22    102.0      1330.0           0   \n",
       "40975         209 2022-02-01 23:57:13    102.0      1329.0           0   \n",
       "\n",
       "       offered_discount   price  month  purchase  \n",
       "0                    10   22.99      1       0.0  \n",
       "2                    10   22.99      1       0.0  \n",
       "4                     5   22.99      2       0.0  \n",
       "265                   0  589.00      2       0.0  \n",
       "266                   5  589.00      2       0.0  \n",
       "...                 ...     ...    ...       ...  \n",
       "40017                 0   59.00      2       0.0  \n",
       "40257                 0  116.99      2       0.0  \n",
       "40496                 0   44.89      2       0.0  \n",
       "40736                 0  247.27      2       0.0  \n",
       "40975                 0  269.00      2       0.0  \n",
       "\n",
       "[289 rows x 9 columns]"
      ]
     },
     "execution_count": 181,
     "metadata": {},
     "output_type": "execute_result"
    }
   ],
   "source": [
    "#### przykładowy klient\n",
    "d102=df_train[df_train['user_id']==102]\n",
    "d102"
   ]
  },
  {
   "cell_type": "code",
   "execution_count": 182,
   "metadata": {},
   "outputs": [],
   "source": [
    "train_users_total_sum=df_train.groupby('user_id')['purchase'].sum()\n",
    "train_users_mean_discount=df_train.groupby('user_id')['offered_discount'].mean()\n",
    "train_users_corr_purchase_discount=df_train.groupby('user_id').apply(lambda x: np.corrcoef(x.purchase, x.offered_discount)[0][1])"
   ]
  },
  {
   "cell_type": "code",
   "execution_count": 183,
   "metadata": {},
   "outputs": [],
   "source": [
    "# https://stackoverflow.com/questions/55649356/how-can-i-detect-if-trend-is-increasing-or-decreasing-in-time-series\n",
    "\n",
    "def trenddetector(array_of_data, order=1):\n",
    "    array_of_data=list(array_of_data[array_of_data!=0])\n",
    "\n",
    "    if len(array_of_data)<2:\n",
    "        return 0\n",
    "    else:\n",
    "        result = np.polyfit(np.arange(len(array_of_data)), list(array_of_data), order)\n",
    "        slope = result[-2]\n",
    "        return float(slope)"
   ]
  },
  {
   "cell_type": "code",
   "execution_count": 184,
   "metadata": {},
   "outputs": [],
   "source": [
    "train_users_purchase_trend=df_train.groupby('user_id')['purchase'].apply(lambda x: trenddetector(x))"
   ]
  },
  {
   "cell_type": "code",
   "execution_count": 185,
   "metadata": {},
   "outputs": [],
   "source": [
    "df_train_users=pd.DataFrame({'total_sum': train_users_total_sum, \n",
    "                             'mean_discount': train_users_mean_discount, \n",
    "                             'corr_purchase_discount': train_users_corr_purchase_discount,\n",
    "                            'spending_trend': train_users_purchase_trend})\n",
    "\n",
    "\n",
    "# train_users_purchase_trend - wartości mają duży rozrzut, \n",
    "# więc potrzebna będzie normalizacja, albo jednak rezygnacja z tej zmiennej"
   ]
  },
  {
   "cell_type": "code",
   "execution_count": 164,
   "metadata": {},
   "outputs": [
    {
     "data": {
      "text/html": [
       "<div>\n",
       "<style scoped>\n",
       "    .dataframe tbody tr th:only-of-type {\n",
       "        vertical-align: middle;\n",
       "    }\n",
       "\n",
       "    .dataframe tbody tr th {\n",
       "        vertical-align: top;\n",
       "    }\n",
       "\n",
       "    .dataframe thead th {\n",
       "        text-align: right;\n",
       "    }\n",
       "</style>\n",
       "<table border=\"1\" class=\"dataframe\">\n",
       "  <thead>\n",
       "    <tr style=\"text-align: right;\">\n",
       "      <th></th>\n",
       "      <th>total_sum</th>\n",
       "      <th>mean_discount</th>\n",
       "      <th>corr_purchase_discount</th>\n",
       "      <th>spending_trend</th>\n",
       "    </tr>\n",
       "    <tr>\n",
       "      <th>user_id</th>\n",
       "      <th></th>\n",
       "      <th></th>\n",
       "      <th></th>\n",
       "      <th></th>\n",
       "    </tr>\n",
       "  </thead>\n",
       "  <tbody>\n",
       "    <tr>\n",
       "      <th>102.0</th>\n",
       "      <td>2.998037e+08</td>\n",
       "      <td>8.148789</td>\n",
       "      <td>-0.065918</td>\n",
       "      <td>7.494971e+06</td>\n",
       "    </tr>\n",
       "    <tr>\n",
       "      <th>103.0</th>\n",
       "      <td>8.311600e+02</td>\n",
       "      <td>8.614458</td>\n",
       "      <td>0.061915</td>\n",
       "      <td>-3.239469e+01</td>\n",
       "    </tr>\n",
       "    <tr>\n",
       "      <th>104.0</th>\n",
       "      <td>4.990018e+08</td>\n",
       "      <td>9.890110</td>\n",
       "      <td>0.138354</td>\n",
       "      <td>-5.346422e+07</td>\n",
       "    </tr>\n",
       "    <tr>\n",
       "      <th>105.0</th>\n",
       "      <td>4.293530e+03</td>\n",
       "      <td>8.211921</td>\n",
       "      <td>-0.026274</td>\n",
       "      <td>-3.034309e+01</td>\n",
       "    </tr>\n",
       "    <tr>\n",
       "      <th>106.0</th>\n",
       "      <td>3.490000e+02</td>\n",
       "      <td>15.000000</td>\n",
       "      <td>0.241249</td>\n",
       "      <td>0.000000e+00</td>\n",
       "    </tr>\n",
       "    <tr>\n",
       "      <th>...</th>\n",
       "      <td>...</td>\n",
       "      <td>...</td>\n",
       "      <td>...</td>\n",
       "      <td>...</td>\n",
       "    </tr>\n",
       "    <tr>\n",
       "      <th>297.0</th>\n",
       "      <td>8.361800e+02</td>\n",
       "      <td>9.939759</td>\n",
       "      <td>-0.145310</td>\n",
       "      <td>3.595050e+02</td>\n",
       "    </tr>\n",
       "    <tr>\n",
       "      <th>298.0</th>\n",
       "      <td>1.300000e+02</td>\n",
       "      <td>10.175439</td>\n",
       "      <td>0.137771</td>\n",
       "      <td>-2.340000e+01</td>\n",
       "    </tr>\n",
       "    <tr>\n",
       "      <th>299.0</th>\n",
       "      <td>2.998014e+08</td>\n",
       "      <td>9.144737</td>\n",
       "      <td>0.008717</td>\n",
       "      <td>1.070708e+07</td>\n",
       "    </tr>\n",
       "    <tr>\n",
       "      <th>300.0</th>\n",
       "      <td>1.227050e+03</td>\n",
       "      <td>9.329004</td>\n",
       "      <td>-0.036052</td>\n",
       "      <td>-4.854441e+00</td>\n",
       "    </tr>\n",
       "    <tr>\n",
       "      <th>301.0</th>\n",
       "      <td>3.579843e+08</td>\n",
       "      <td>8.355556</td>\n",
       "      <td>0.054418</td>\n",
       "      <td>1.826000e+06</td>\n",
       "    </tr>\n",
       "  </tbody>\n",
       "</table>\n",
       "<p>199 rows × 4 columns</p>\n",
       "</div>"
      ],
      "text/plain": [
       "            total_sum  mean_discount  corr_purchase_discount  spending_trend\n",
       "user_id                                                                     \n",
       "102.0    2.998037e+08       8.148789               -0.065918    7.494971e+06\n",
       "103.0    8.311600e+02       8.614458                0.061915   -3.239469e+01\n",
       "104.0    4.990018e+08       9.890110                0.138354   -5.346422e+07\n",
       "105.0    4.293530e+03       8.211921               -0.026274   -3.034309e+01\n",
       "106.0    3.490000e+02      15.000000                0.241249    0.000000e+00\n",
       "...               ...            ...                     ...             ...\n",
       "297.0    8.361800e+02       9.939759               -0.145310    3.595050e+02\n",
       "298.0    1.300000e+02      10.175439                0.137771   -2.340000e+01\n",
       "299.0    2.998014e+08       9.144737                0.008717    1.070708e+07\n",
       "300.0    1.227050e+03       9.329004               -0.036052   -4.854441e+00\n",
       "301.0    3.579843e+08       8.355556                0.054418    1.826000e+06\n",
       "\n",
       "[199 rows x 4 columns]"
      ]
     },
     "execution_count": 164,
     "metadata": {},
     "output_type": "execute_result"
    }
   ],
   "source": [
    "df_train_users\n",
    "### rozumiemy, że w żaden sposób nie możemy używać user_id, tak aby rozwiązanie było jak najbardziej ogólne"
   ]
  },
  {
   "cell_type": "code",
   "execution_count": null,
   "metadata": {},
   "outputs": [],
   "source": [
    "# w tabeli powyżej trzeba dokleić info o wydanej sumie w kolejnym miesiącu\n",
    "# może warto dodać info o znaczniku czasu"
   ]
  },
  {
   "cell_type": "markdown",
   "metadata": {},
   "source": [
    "Trzeba przeanalizować ceny produktów"
   ]
  },
  {
   "cell_type": "code",
   "execution_count": 186,
   "metadata": {},
   "outputs": [
    {
     "data": {
      "text/plain": [
       "(array([4.2e+04, 0.0e+00, 8.7e+01, 2.2e+01, 2.5e+01, 0.0e+00, 1.4e+01,\n",
       "        0.0e+00, 0.0e+00, 1.2e+01]),\n",
       " array([-6.80000000e+02,  4.98993880e+07,  9.97994560e+07,  1.49699524e+08,\n",
       "         1.99599592e+08,  2.49499660e+08,  2.99399728e+08,  3.49299796e+08,\n",
       "         3.99199864e+08,  4.49099932e+08,  4.99000000e+08]),\n",
       " <a list of 10 Patch objects>)"
      ]
     },
     "execution_count": 186,
     "metadata": {},
     "output_type": "execute_result"
    },
    {
     "data": {
      "image/png": "[encoded data removed]",
      "text/plain": [
       "<Figure size 432x288 with 1 Axes>"
      ]
     },
     "metadata": {
      "needs_background": "light"
     },
     "output_type": "display_data"
    }
   ],
   "source": [
    "plt.hist(df.purchase)  ### ile klienci wydali w ciągu ostatnich 2 miesięcy"
   ]
  },
  {
   "cell_type": "code",
   "execution_count": 187,
   "metadata": {},
   "outputs": [
    {
     "data": {
      "text/plain": [
       "(array([3.9239e+04, 4.1800e+02, 1.3590e+03, 8.0600e+02, 0.0000e+00,\n",
       "        0.0000e+00, 0.0000e+00, 0.0000e+00, 2.1000e+01, 1.6000e+02]),\n",
       " array([ 0.        ,  2.00281167,  4.00562333,  6.008435  ,  8.01124666,\n",
       "        10.01405833, 12.01686999, 14.01968166, 16.02249332, 18.02530499,\n",
       "        20.02811666]),\n",
       " <a list of 10 Patch objects>)"
      ]
     },
     "execution_count": 187,
     "metadata": {},
     "output_type": "execute_result"
    },
    {
     "data": {
      "image/png": "[encoded data removed]",
      "text/plain": [
       "<Figure size 432x288 with 1 Axes>"
      ]
     },
     "metadata": {
      "needs_background": "light"
     },
     "output_type": "display_data"
    }
   ],
   "source": [
    "plt.hist(np.log1p(df.purchase)) #zlogarytmowane wydatki miesięczne klientów"
   ]
  },
  {
   "cell_type": "code",
   "execution_count": null,
   "metadata": {},
   "outputs": [],
   "source": []
  },
  {
   "cell_type": "code",
   "execution_count": null,
   "metadata": {},
   "outputs": [],
   "source": []
  },
  {
   "cell_type": "code",
   "execution_count": null,
   "metadata": {},
   "outputs": [],
   "source": []
  },
  {
   "cell_type": "code",
   "execution_count": null,
   "metadata": {},
   "outputs": [],
   "source": []
  },
  {
   "cell_type": "code",
   "execution_count": null,
   "metadata": {},
   "outputs": [],
   "source": []
  },
  {
   "cell_type": "code",
   "execution_count": null,
   "metadata": {},
   "outputs": [],
   "source": []
  },
  {
   "cell_type": "code",
   "execution_count": null,
   "metadata": {},
   "outputs": [],
   "source": []
  },
  {
   "cell_type": "code",
   "execution_count": null,
   "metadata": {},
   "outputs": [],
   "source": []
  },
  {
   "cell_type": "markdown",
   "metadata": {},
   "source": [
    "# TRZEBA SPRAWDZIĆ CZY COŚ ZE STARSZYCH ANALIZ MOŻE SIĘ PRZYDAĆ"
   ]
  },
  {
   "cell_type": "markdown",
   "metadata": {},
   "source": [
    "# Dodatkowe analizy eksploracyjne"
   ]
  },
  {
   "cell_type": "markdown",
   "metadata": {},
   "source": [
    "Ile czynności ooglądania produktu na stronie zakończyło się zakupem?"
   ]
  },
  {
   "cell_type": "code",
   "execution_count": 3,
   "metadata": {},
   "outputs": [
    {
     "data": {
      "image/png": "[encoded data removed]",
      "text/plain": [
       "<Figure size 432x288 with 1 Axes>"
      ]
     },
     "metadata": {
      "needs_background": "light"
     },
     "output_type": "display_data"
    }
   ],
   "source": [
    "ax = sns.countplot(x=\"event_type\", data=data_df)"
   ]
  },
  {
   "cell_type": "markdown",
   "metadata": {},
   "source": [
    "Ile razy produktów w ramach sesji uczestnicy oglądali?"
   ]
  },
  {
   "cell_type": "code",
   "execution_count": 4,
   "metadata": {},
   "outputs": [
    {
     "data": {
      "text/plain": [
       "(array([2207., 1883., 1216.,  927.,  768.,  700.,  721.,  671.,  602.,\n",
       "         496.]),\n",
       " array([ 0. ,  1.1,  2.2,  3.3,  4.4,  5.5,  6.6,  7.7,  8.8,  9.9, 11. ]),\n",
       " <a list of 10 Patch objects>)"
      ]
     },
     "execution_count": 4,
     "metadata": {},
     "output_type": "execute_result"
    },
    {
     "data": {
      "image/png": "[encoded data removed]",
      "text/plain": [
       "<Figure size 432x288 with 1 Axes>"
      ]
     },
     "metadata": {
      "needs_background": "light"
     },
     "output_type": "display_data"
    }
   ],
   "source": [
    "session_product=data_df.groupby(['session_id'])['product_id'].count()\n",
    "plt.hist(session_product)"
   ]
  },
  {
   "cell_type": "code",
   "execution_count": 5,
   "metadata": {},
   "outputs": [],
   "source": [
    "session_results=data_df.groupby(['session_id'])['event_type'].min()  #### to check whether it works exactly how I would like it to work"
   ]
  },
  {
   "cell_type": "code",
   "execution_count": 6,
   "metadata": {},
   "outputs": [],
   "source": [
    "session_prod_event=pd.DataFrame(session_product).join(pd.DataFrame(session_results))\n",
    "session_prod_event.sort_values(by=['product_id'], inplace=True)  ## it would be good to change column names\n",
    "\n",
    "### tutaj gdy product_id==0 to oznacza, że w oryginalnych danych było NaN"
   ]
  },
  {
   "cell_type": "code",
   "execution_count": 7,
   "metadata": {},
   "outputs": [],
   "source": [
    "session_prod_event['event_type']=session_prod_event['event_type'].map({'VIEW_PRODUCT':0, 'BUY_PRODUCT':1})"
   ]
  },
  {
   "cell_type": "code",
   "execution_count": 8,
   "metadata": {},
   "outputs": [
    {
     "data": {
      "text/plain": [
       "Text(0, 0.5, 'prawdopodobieństwo zakupu')"
      ]
     },
     "execution_count": 8,
     "metadata": {},
     "output_type": "execute_result"
    },
    {
     "data": {
      "image/png": "[encoded data removed]",
      "text/plain": [
       "<Figure size 432x288 with 1 Axes>"
      ]
     },
     "metadata": {
      "needs_background": "light"
     },
     "output_type": "display_data"
    }
   ],
   "source": [
    "n_prod_buy=session_prod_event.groupby(['product_id'])['event_type'].mean()\n",
    "plt.bar(n_prod_buy.index, n_prod_buy)\n",
    "plt.xlabel('liczba oglądanych produktów')\n",
    "plt.ylabel('prawdopodobieństwo zakupu')"
   ]
  },
  {
   "cell_type": "markdown",
   "metadata": {},
   "source": [
    "Wstępna analiza pokazuje, że istnieje zależność, że im więcej ktoś przejrzał produktów, tym szansa, że coś kupi wzrasta."
   ]
  },
  {
   "cell_type": "code",
   "execution_count": 9,
   "metadata": {},
   "outputs": [
    {
     "data": {
      "text/html": [
       "<div>\n",
       "<style scoped>\n",
       "    .dataframe tbody tr th:only-of-type {\n",
       "        vertical-align: middle;\n",
       "    }\n",
       "\n",
       "    .dataframe tbody tr th {\n",
       "        vertical-align: top;\n",
       "    }\n",
       "\n",
       "    .dataframe thead th {\n",
       "        text-align: right;\n",
       "    }\n",
       "</style>\n",
       "<table border=\"1\" class=\"dataframe\">\n",
       "  <thead>\n",
       "    <tr style=\"text-align: right;\">\n",
       "      <th></th>\n",
       "      <th>session_id</th>\n",
       "      <th>timestamp</th>\n",
       "      <th>user_id</th>\n",
       "      <th>product_id</th>\n",
       "      <th>event_type</th>\n",
       "      <th>offered_discount</th>\n",
       "      <th>purchase_id</th>\n",
       "    </tr>\n",
       "  </thead>\n",
       "  <tbody>\n",
       "    <tr>\n",
       "      <th>0</th>\n",
       "      <td>124</td>\n",
       "      <td>2022-01-10 00:55:41</td>\n",
       "      <td>102.0</td>\n",
       "      <td>1117.0</td>\n",
       "      <td>VIEW_PRODUCT</td>\n",
       "      <td>10</td>\n",
       "      <td>NaN</td>\n",
       "    </tr>\n",
       "    <tr>\n",
       "      <th>1</th>\n",
       "      <td>125</td>\n",
       "      <td>2022-03-08 19:21:47</td>\n",
       "      <td>102.0</td>\n",
       "      <td>1538.0</td>\n",
       "      <td>VIEW_PRODUCT</td>\n",
       "      <td>15</td>\n",
       "      <td>NaN</td>\n",
       "    </tr>\n",
       "    <tr>\n",
       "      <th>2</th>\n",
       "      <td>125</td>\n",
       "      <td>2022-03-08 19:23:58</td>\n",
       "      <td>102.0</td>\n",
       "      <td>1539.0</td>\n",
       "      <td>VIEW_PRODUCT</td>\n",
       "      <td>15</td>\n",
       "      <td>NaN</td>\n",
       "    </tr>\n",
       "    <tr>\n",
       "      <th>3</th>\n",
       "      <td>125</td>\n",
       "      <td>2022-03-08 19:27:27</td>\n",
       "      <td>102.0</td>\n",
       "      <td>1545.0</td>\n",
       "      <td>VIEW_PRODUCT</td>\n",
       "      <td>15</td>\n",
       "      <td>NaN</td>\n",
       "    </tr>\n",
       "    <tr>\n",
       "      <th>4</th>\n",
       "      <td>125</td>\n",
       "      <td>2022-03-08 19:30:22</td>\n",
       "      <td>102.0</td>\n",
       "      <td>1541.0</td>\n",
       "      <td>VIEW_PRODUCT</td>\n",
       "      <td>15</td>\n",
       "      <td>NaN</td>\n",
       "    </tr>\n",
       "    <tr>\n",
       "      <th>...</th>\n",
       "      <td>...</td>\n",
       "      <td>...</td>\n",
       "      <td>...</td>\n",
       "      <td>...</td>\n",
       "      <td>...</td>\n",
       "      <td>...</td>\n",
       "      <td>...</td>\n",
       "    </tr>\n",
       "    <tr>\n",
       "      <th>44340</th>\n",
       "      <td>10314</td>\n",
       "      <td>2022-01-02 09:36:54</td>\n",
       "      <td>301.0</td>\n",
       "      <td>1628.0</td>\n",
       "      <td>VIEW_PRODUCT</td>\n",
       "      <td>15</td>\n",
       "      <td>NaN</td>\n",
       "    </tr>\n",
       "    <tr>\n",
       "      <th>44341</th>\n",
       "      <td>10314</td>\n",
       "      <td>2022-01-02 09:39:43</td>\n",
       "      <td>301.0</td>\n",
       "      <td>1630.0</td>\n",
       "      <td>VIEW_PRODUCT</td>\n",
       "      <td>15</td>\n",
       "      <td>NaN</td>\n",
       "    </tr>\n",
       "    <tr>\n",
       "      <th>44342</th>\n",
       "      <td>10314</td>\n",
       "      <td>2022-01-02 09:40:30</td>\n",
       "      <td>301.0</td>\n",
       "      <td>1626.0</td>\n",
       "      <td>VIEW_PRODUCT</td>\n",
       "      <td>15</td>\n",
       "      <td>NaN</td>\n",
       "    </tr>\n",
       "    <tr>\n",
       "      <th>44343</th>\n",
       "      <td>10314</td>\n",
       "      <td>2022-01-02 09:42:25</td>\n",
       "      <td>301.0</td>\n",
       "      <td>1634.0</td>\n",
       "      <td>VIEW_PRODUCT</td>\n",
       "      <td>15</td>\n",
       "      <td>NaN</td>\n",
       "    </tr>\n",
       "    <tr>\n",
       "      <th>44344</th>\n",
       "      <td>10314</td>\n",
       "      <td>2022-01-02 09:46:56</td>\n",
       "      <td>301.0</td>\n",
       "      <td>1634.0</td>\n",
       "      <td>BUY_PRODUCT</td>\n",
       "      <td>15</td>\n",
       "      <td>23097.0</td>\n",
       "    </tr>\n",
       "  </tbody>\n",
       "</table>\n",
       "<p>44345 rows × 7 columns</p>\n",
       "</div>"
      ],
      "text/plain": [
       "       session_id           timestamp  user_id  product_id    event_type  \\\n",
       "0             124 2022-01-10 00:55:41    102.0      1117.0  VIEW_PRODUCT   \n",
       "1             125 2022-03-08 19:21:47    102.0      1538.0  VIEW_PRODUCT   \n",
       "2             125 2022-03-08 19:23:58    102.0      1539.0  VIEW_PRODUCT   \n",
       "3             125 2022-03-08 19:27:27    102.0      1545.0  VIEW_PRODUCT   \n",
       "4             125 2022-03-08 19:30:22    102.0      1541.0  VIEW_PRODUCT   \n",
       "...           ...                 ...      ...         ...           ...   \n",
       "44340       10314 2022-01-02 09:36:54    301.0      1628.0  VIEW_PRODUCT   \n",
       "44341       10314 2022-01-02 09:39:43    301.0      1630.0  VIEW_PRODUCT   \n",
       "44342       10314 2022-01-02 09:40:30    301.0      1626.0  VIEW_PRODUCT   \n",
       "44343       10314 2022-01-02 09:42:25    301.0      1634.0  VIEW_PRODUCT   \n",
       "44344       10314 2022-01-02 09:46:56    301.0      1634.0   BUY_PRODUCT   \n",
       "\n",
       "       offered_discount  purchase_id  \n",
       "0                    10          NaN  \n",
       "1                    15          NaN  \n",
       "2                    15          NaN  \n",
       "3                    15          NaN  \n",
       "4                    15          NaN  \n",
       "...                 ...          ...  \n",
       "44340                15          NaN  \n",
       "44341                15          NaN  \n",
       "44342                15          NaN  \n",
       "44343                15          NaN  \n",
       "44344                15      23097.0  \n",
       "\n",
       "[44345 rows x 7 columns]"
      ]
     },
     "execution_count": 9,
     "metadata": {},
     "output_type": "execute_result"
    }
   ],
   "source": [
    "data_df"
   ]
  },
  {
   "cell_type": "markdown",
   "metadata": {},
   "source": [
    "## Analiza czasu trwania sesji"
   ]
  },
  {
   "cell_type": "code",
   "execution_count": 10,
   "metadata": {},
   "outputs": [],
   "source": [
    "diff_time=data_df.groupby(['session_id'])['timestamp'].max()-data_df.groupby(['session_id'])['timestamp'].min()"
   ]
  },
  {
   "cell_type": "code",
   "execution_count": 11,
   "metadata": {},
   "outputs": [],
   "source": [
    "d=pd.DataFrame(diff_time)\n",
    "d=d.reset_index()\n",
    "d.columns=['session_id', 'time_diff']"
   ]
  },
  {
   "cell_type": "markdown",
   "metadata": {},
   "source": [
    "### w ramce danych do modelowania należy dać informację, ile całkowicie trwała sesja oraz ile produktów obejrzano"
   ]
  },
  {
   "cell_type": "code",
   "execution_count": 12,
   "metadata": {},
   "outputs": [],
   "source": [
    "d=d.sort_values(['time_diff'])\n",
    "d.index=d.session_id"
   ]
  },
  {
   "cell_type": "code",
   "execution_count": 13,
   "metadata": {},
   "outputs": [],
   "source": [
    "session_results=session_results.map({'VIEW_PRODUCT':0, 'BUY_PRODUCT':1})"
   ]
  },
  {
   "cell_type": "code",
   "execution_count": 14,
   "metadata": {},
   "outputs": [],
   "source": [
    "d=d.join(session_results)\n",
    "d.drop('session_id', axis=1, inplace=True)"
   ]
  },
  {
   "cell_type": "code",
   "execution_count": 15,
   "metadata": {},
   "outputs": [
    {
     "data": {
      "text/html": [
       "<div>\n",
       "<style scoped>\n",
       "    .dataframe tbody tr th:only-of-type {\n",
       "        vertical-align: middle;\n",
       "    }\n",
       "\n",
       "    .dataframe tbody tr th {\n",
       "        vertical-align: top;\n",
       "    }\n",
       "\n",
       "    .dataframe thead th {\n",
       "        text-align: right;\n",
       "    }\n",
       "</style>\n",
       "<table border=\"1\" class=\"dataframe\">\n",
       "  <thead>\n",
       "    <tr style=\"text-align: right;\">\n",
       "      <th></th>\n",
       "      <th>time_diff</th>\n",
       "      <th>event_type</th>\n",
       "    </tr>\n",
       "    <tr>\n",
       "      <th>session_id</th>\n",
       "      <th></th>\n",
       "      <th></th>\n",
       "    </tr>\n",
       "  </thead>\n",
       "  <tbody>\n",
       "    <tr>\n",
       "      <th>124</th>\n",
       "      <td>00:00:00</td>\n",
       "      <td>0</td>\n",
       "    </tr>\n",
       "    <tr>\n",
       "      <th>4578</th>\n",
       "      <td>00:00:00</td>\n",
       "      <td>0</td>\n",
       "    </tr>\n",
       "    <tr>\n",
       "      <th>4587</th>\n",
       "      <td>00:00:00</td>\n",
       "      <td>0</td>\n",
       "    </tr>\n",
       "    <tr>\n",
       "      <th>4588</th>\n",
       "      <td>00:00:00</td>\n",
       "      <td>0</td>\n",
       "    </tr>\n",
       "    <tr>\n",
       "      <th>4589</th>\n",
       "      <td>00:00:00</td>\n",
       "      <td>0</td>\n",
       "    </tr>\n",
       "    <tr>\n",
       "      <th>...</th>\n",
       "      <td>...</td>\n",
       "      <td>...</td>\n",
       "    </tr>\n",
       "    <tr>\n",
       "      <th>4709</th>\n",
       "      <td>00:35:07</td>\n",
       "      <td>0</td>\n",
       "    </tr>\n",
       "    <tr>\n",
       "      <th>8522</th>\n",
       "      <td>00:35:27</td>\n",
       "      <td>1</td>\n",
       "    </tr>\n",
       "    <tr>\n",
       "      <th>4698</th>\n",
       "      <td>00:35:53</td>\n",
       "      <td>1</td>\n",
       "    </tr>\n",
       "    <tr>\n",
       "      <th>3104</th>\n",
       "      <td>00:36:43</td>\n",
       "      <td>1</td>\n",
       "    </tr>\n",
       "    <tr>\n",
       "      <th>4017</th>\n",
       "      <td>00:37:29</td>\n",
       "      <td>0</td>\n",
       "    </tr>\n",
       "  </tbody>\n",
       "</table>\n",
       "<p>10191 rows × 2 columns</p>\n",
       "</div>"
      ],
      "text/plain": [
       "           time_diff  event_type\n",
       "session_id                      \n",
       "124         00:00:00           0\n",
       "4578        00:00:00           0\n",
       "4587        00:00:00           0\n",
       "4588        00:00:00           0\n",
       "4589        00:00:00           0\n",
       "...              ...         ...\n",
       "4709        00:35:07           0\n",
       "8522        00:35:27           1\n",
       "4698        00:35:53           1\n",
       "3104        00:36:43           1\n",
       "4017        00:37:29           0\n",
       "\n",
       "[10191 rows x 2 columns]"
      ]
     },
     "execution_count": 15,
     "metadata": {},
     "output_type": "execute_result"
    }
   ],
   "source": [
    "d"
   ]
  },
  {
   "cell_type": "code",
   "execution_count": 16,
   "metadata": {},
   "outputs": [],
   "source": [
    "d['time_diff'] = d['time_diff'].apply(lambda x: x.seconds)"
   ]
  },
  {
   "cell_type": "code",
   "execution_count": 17,
   "metadata": {},
   "outputs": [
    {
     "data": {
      "text/plain": [
       "Text(0.5, 0, 'czas trwania sesji')"
      ]
     },
     "execution_count": 17,
     "metadata": {},
     "output_type": "execute_result"
    },
    {
     "data": {
      "image/png": "[encoded data removed]",
      "text/plain": [
       "<Figure size 432x288 with 1 Axes>"
      ]
     },
     "metadata": {
      "needs_background": "light"
     },
     "output_type": "display_data"
    }
   ],
   "source": [
    "plt.hist(d['time_diff'])\n",
    "plt.xlabel('czas trwania sesji')"
   ]
  },
  {
   "cell_type": "code",
   "execution_count": 251,
   "metadata": {},
   "outputs": [],
   "source": [
    "## Warto byłoby dodać wizualizację jaka jest relacja między czasem trwania sesji a zakupem "
   ]
  },
  {
   "cell_type": "markdown",
   "metadata": {},
   "source": [
    "## Dodatkowe analizy"
   ]
  },
  {
   "cell_type": "markdown",
   "metadata": {},
   "source": [
    "Ile razy dany produkt był kupiony?"
   ]
  },
  {
   "cell_type": "code",
   "execution_count": 252,
   "metadata": {},
   "outputs": [
    {
     "data": {
      "text/plain": [
       "<matplotlib.axes._subplots.AxesSubplot at 0x2051c482dc8>"
      ]
     },
     "execution_count": 252,
     "metadata": {},
     "output_type": "execute_result"
    },
    {
     "data": {
      "image/png": "[encoded data removed]",
      "text/plain": [
       "<Figure size 720x720 with 1 Axes>"
      ]
     },
     "metadata": {
      "needs_background": "light"
     },
     "output_type": "display_data"
    }
   ],
   "source": [
    "plt.figure(figsize=(10,10))\n",
    "sns.countplot(data_df[data_df.event_type=='BUY_PRODUCT'].groupby('product_id')['product_id'].count())"
   ]
  },
  {
   "cell_type": "markdown",
   "metadata": {},
   "source": [
    "Jaki jest najwyższy współczynnik liczby sprzedaży danego produktu liczby jego oglądania?"
   ]
  },
  {
   "cell_type": "code",
   "execution_count": 253,
   "metadata": {},
   "outputs": [
    {
     "data": {
      "text/plain": [
       "0.23722627737226276"
      ]
     },
     "execution_count": 253,
     "metadata": {},
     "output_type": "execute_result"
    }
   ],
   "source": [
    "df_tmp.groupby('product_id')['event_type'].mean().max()"
   ]
  },
  {
   "cell_type": "markdown",
   "metadata": {},
   "source": [
    "# Braki w danych"
   ]
  },
  {
   "cell_type": "code",
   "execution_count": 254,
   "metadata": {},
   "outputs": [
    {
     "data": {
      "text/plain": [
       "0.06983876423497576"
      ]
     },
     "execution_count": 254,
     "metadata": {},
     "output_type": "execute_result"
    }
   ],
   "source": [
    "3097/44345 "
   ]
  },
  {
   "cell_type": "markdown",
   "metadata": {},
   "source": [
    "Wniosek: Braki występują w kolumnach: *used_id*, *product_id* oraz *purchase_id*. Było to uwidocznione w pierwsze analizie po wczytaniu danych. Szczególnie dużo jest ich w ostatnio wymienionej kolumnie, gdzie tylko ok. 7% rekordów ma zdefiniowaną wartość. W przypadku pozostałych kolumn braki stanowią jedynie ok. 5\\%."
   ]
  },
  {
   "cell_type": "markdown",
   "metadata": {},
   "source": [
    "Zweryfikowano czy duża liczba braków w kolumnie *purchase_id* wynika z tego, że niewielka liczba sesji polegających na oglądaniu konkretnego produktu zakończyła się zakupem. "
   ]
  },
  {
   "cell_type": "code",
   "execution_count": 255,
   "metadata": {},
   "outputs": [
    {
     "data": {
      "text/plain": [
       "1.0"
      ]
     },
     "execution_count": 255,
     "metadata": {},
     "output_type": "execute_result"
    }
   ],
   "source": [
    "df_view_prod=data_df[data_df['event_type']=='VIEW_PRODUCT']\n",
    "\n",
    "np.sum(np.isnan(df_view_prod.purchase_id))/len(df_view_prod)"
   ]
  },
  {
   "cell_type": "markdown",
   "metadata": {},
   "source": [
    "Okazuje się, że brak wartości w kolumnie *purchase_id* wynika z braku zakupu. Braki więc nie mają charakteru losowego, a wynikają z charakteru i logiki danych. "
   ]
  },
  {
   "cell_type": "markdown",
   "metadata": {},
   "source": [
    "W tej sytuacji można byłoby zamienić braki na wartość neutralną, czyli taką jaka nie występuje w kolumnie *purchase_id* - np. 0 albo -1."
   ]
  },
  {
   "cell_type": "code",
   "execution_count": 256,
   "metadata": {},
   "outputs": [
    {
     "data": {
      "text/html": [
       "<div>\n",
       "<style scoped>\n",
       "    .dataframe tbody tr th:only-of-type {\n",
       "        vertical-align: middle;\n",
       "    }\n",
       "\n",
       "    .dataframe tbody tr th {\n",
       "        vertical-align: top;\n",
       "    }\n",
       "\n",
       "    .dataframe thead th {\n",
       "        text-align: right;\n",
       "    }\n",
       "</style>\n",
       "<table border=\"1\" class=\"dataframe\">\n",
       "  <thead>\n",
       "    <tr style=\"text-align: right;\">\n",
       "      <th></th>\n",
       "      <th>session_id</th>\n",
       "      <th>timestamp</th>\n",
       "      <th>user_id</th>\n",
       "      <th>product_id</th>\n",
       "      <th>event_type</th>\n",
       "      <th>offered_discount</th>\n",
       "      <th>purchase_id</th>\n",
       "    </tr>\n",
       "  </thead>\n",
       "  <tbody>\n",
       "    <tr>\n",
       "      <th>66</th>\n",
       "      <td>142</td>\n",
       "      <td>2022-01-06 10:26:05</td>\n",
       "      <td>NaN</td>\n",
       "      <td>1436.0</td>\n",
       "      <td>VIEW_PRODUCT</td>\n",
       "      <td>0</td>\n",
       "      <td>NaN</td>\n",
       "    </tr>\n",
       "    <tr>\n",
       "      <th>84</th>\n",
       "      <td>145</td>\n",
       "      <td>2022-03-07 04:31:22</td>\n",
       "      <td>NaN</td>\n",
       "      <td>1095.0</td>\n",
       "      <td>VIEW_PRODUCT</td>\n",
       "      <td>10</td>\n",
       "      <td>NaN</td>\n",
       "    </tr>\n",
       "    <tr>\n",
       "      <th>111</th>\n",
       "      <td>152</td>\n",
       "      <td>2022-02-14 02:53:27</td>\n",
       "      <td>NaN</td>\n",
       "      <td>1095.0</td>\n",
       "      <td>VIEW_PRODUCT</td>\n",
       "      <td>5</td>\n",
       "      <td>NaN</td>\n",
       "    </tr>\n",
       "    <tr>\n",
       "      <th>128</th>\n",
       "      <td>156</td>\n",
       "      <td>2022-03-13 10:37:35</td>\n",
       "      <td>NaN</td>\n",
       "      <td>1117.0</td>\n",
       "      <td>VIEW_PRODUCT</td>\n",
       "      <td>5</td>\n",
       "      <td>NaN</td>\n",
       "    </tr>\n",
       "    <tr>\n",
       "      <th>151</th>\n",
       "      <td>160</td>\n",
       "      <td>2022-01-26 03:28:04</td>\n",
       "      <td>NaN</td>\n",
       "      <td>1619.0</td>\n",
       "      <td>VIEW_PRODUCT</td>\n",
       "      <td>0</td>\n",
       "      <td>NaN</td>\n",
       "    </tr>\n",
       "    <tr>\n",
       "      <th>...</th>\n",
       "      <td>...</td>\n",
       "      <td>...</td>\n",
       "      <td>...</td>\n",
       "      <td>...</td>\n",
       "      <td>...</td>\n",
       "      <td>...</td>\n",
       "      <td>...</td>\n",
       "    </tr>\n",
       "    <tr>\n",
       "      <th>44148</th>\n",
       "      <td>10271</td>\n",
       "      <td>2022-01-12 16:59:26</td>\n",
       "      <td>NaN</td>\n",
       "      <td>1160.0</td>\n",
       "      <td>VIEW_PRODUCT</td>\n",
       "      <td>0</td>\n",
       "      <td>NaN</td>\n",
       "    </tr>\n",
       "    <tr>\n",
       "      <th>44239</th>\n",
       "      <td>10293</td>\n",
       "      <td>2022-01-13 07:37:54</td>\n",
       "      <td>NaN</td>\n",
       "      <td>1538.0</td>\n",
       "      <td>VIEW_PRODUCT</td>\n",
       "      <td>20</td>\n",
       "      <td>NaN</td>\n",
       "    </tr>\n",
       "    <tr>\n",
       "      <th>44286</th>\n",
       "      <td>10302</td>\n",
       "      <td>2022-03-10 14:29:51</td>\n",
       "      <td>NaN</td>\n",
       "      <td>1600.0</td>\n",
       "      <td>VIEW_PRODUCT</td>\n",
       "      <td>20</td>\n",
       "      <td>NaN</td>\n",
       "    </tr>\n",
       "    <tr>\n",
       "      <th>44308</th>\n",
       "      <td>10307</td>\n",
       "      <td>2022-02-21 09:13:30</td>\n",
       "      <td>NaN</td>\n",
       "      <td>1093.0</td>\n",
       "      <td>VIEW_PRODUCT</td>\n",
       "      <td>5</td>\n",
       "      <td>NaN</td>\n",
       "    </tr>\n",
       "    <tr>\n",
       "      <th>44309</th>\n",
       "      <td>10307</td>\n",
       "      <td>2022-02-21 09:14:35</td>\n",
       "      <td>NaN</td>\n",
       "      <td>1092.0</td>\n",
       "      <td>VIEW_PRODUCT</td>\n",
       "      <td>5</td>\n",
       "      <td>NaN</td>\n",
       "    </tr>\n",
       "  </tbody>\n",
       "</table>\n",
       "<p>2176 rows × 7 columns</p>\n",
       "</div>"
      ],
      "text/plain": [
       "       session_id           timestamp  user_id  product_id    event_type  \\\n",
       "66            142 2022-01-06 10:26:05      NaN      1436.0  VIEW_PRODUCT   \n",
       "84            145 2022-03-07 04:31:22      NaN      1095.0  VIEW_PRODUCT   \n",
       "111           152 2022-02-14 02:53:27      NaN      1095.0  VIEW_PRODUCT   \n",
       "128           156 2022-03-13 10:37:35      NaN      1117.0  VIEW_PRODUCT   \n",
       "151           160 2022-01-26 03:28:04      NaN      1619.0  VIEW_PRODUCT   \n",
       "...           ...                 ...      ...         ...           ...   \n",
       "44148       10271 2022-01-12 16:59:26      NaN      1160.0  VIEW_PRODUCT   \n",
       "44239       10293 2022-01-13 07:37:54      NaN      1538.0  VIEW_PRODUCT   \n",
       "44286       10302 2022-03-10 14:29:51      NaN      1600.0  VIEW_PRODUCT   \n",
       "44308       10307 2022-02-21 09:13:30      NaN      1093.0  VIEW_PRODUCT   \n",
       "44309       10307 2022-02-21 09:14:35      NaN      1092.0  VIEW_PRODUCT   \n",
       "\n",
       "       offered_discount  purchase_id  \n",
       "66                    0          NaN  \n",
       "84                   10          NaN  \n",
       "111                   5          NaN  \n",
       "128                   5          NaN  \n",
       "151                   0          NaN  \n",
       "...                 ...          ...  \n",
       "44148                 0          NaN  \n",
       "44239                20          NaN  \n",
       "44286                20          NaN  \n",
       "44308                 5          NaN  \n",
       "44309                 5          NaN  \n",
       "\n",
       "[2176 rows x 7 columns]"
      ]
     },
     "execution_count": 256,
     "metadata": {},
     "output_type": "execute_result"
    }
   ],
   "source": [
    "data_df[data_df.user_id.isnull()]"
   ]
  },
  {
   "cell_type": "code",
   "execution_count": 257,
   "metadata": {},
   "outputs": [
    {
     "data": {
      "text/html": [
       "<div>\n",
       "<style scoped>\n",
       "    .dataframe tbody tr th:only-of-type {\n",
       "        vertical-align: middle;\n",
       "    }\n",
       "\n",
       "    .dataframe tbody tr th {\n",
       "        vertical-align: top;\n",
       "    }\n",
       "\n",
       "    .dataframe thead th {\n",
       "        text-align: right;\n",
       "    }\n",
       "</style>\n",
       "<table border=\"1\" class=\"dataframe\">\n",
       "  <thead>\n",
       "    <tr style=\"text-align: right;\">\n",
       "      <th></th>\n",
       "      <th>session_id</th>\n",
       "      <th>timestamp</th>\n",
       "      <th>user_id</th>\n",
       "      <th>product_id</th>\n",
       "      <th>event_type</th>\n",
       "      <th>offered_discount</th>\n",
       "      <th>purchase_id</th>\n",
       "    </tr>\n",
       "  </thead>\n",
       "  <tbody>\n",
       "    <tr>\n",
       "      <th>18</th>\n",
       "      <td>129</td>\n",
       "      <td>2022-01-18 14:14:16</td>\n",
       "      <td>102.0</td>\n",
       "      <td>NaN</td>\n",
       "      <td>VIEW_PRODUCT</td>\n",
       "      <td>15</td>\n",
       "      <td>NaN</td>\n",
       "    </tr>\n",
       "    <tr>\n",
       "      <th>19</th>\n",
       "      <td>129</td>\n",
       "      <td>2022-01-18 14:18:32</td>\n",
       "      <td>102.0</td>\n",
       "      <td>NaN</td>\n",
       "      <td>VIEW_PRODUCT</td>\n",
       "      <td>15</td>\n",
       "      <td>NaN</td>\n",
       "    </tr>\n",
       "    <tr>\n",
       "      <th>29</th>\n",
       "      <td>130</td>\n",
       "      <td>2022-03-16 21:35:40</td>\n",
       "      <td>102.0</td>\n",
       "      <td>NaN</td>\n",
       "      <td>VIEW_PRODUCT</td>\n",
       "      <td>10</td>\n",
       "      <td>NaN</td>\n",
       "    </tr>\n",
       "    <tr>\n",
       "      <th>47</th>\n",
       "      <td>136</td>\n",
       "      <td>2022-03-21 14:59:29</td>\n",
       "      <td>102.0</td>\n",
       "      <td>NaN</td>\n",
       "      <td>VIEW_PRODUCT</td>\n",
       "      <td>15</td>\n",
       "      <td>NaN</td>\n",
       "    </tr>\n",
       "    <tr>\n",
       "      <th>102</th>\n",
       "      <td>150</td>\n",
       "      <td>2022-01-25 09:19:25</td>\n",
       "      <td>102.0</td>\n",
       "      <td>NaN</td>\n",
       "      <td>VIEW_PRODUCT</td>\n",
       "      <td>0</td>\n",
       "      <td>NaN</td>\n",
       "    </tr>\n",
       "    <tr>\n",
       "      <th>...</th>\n",
       "      <td>...</td>\n",
       "      <td>...</td>\n",
       "      <td>...</td>\n",
       "      <td>...</td>\n",
       "      <td>...</td>\n",
       "      <td>...</td>\n",
       "      <td>...</td>\n",
       "    </tr>\n",
       "    <tr>\n",
       "      <th>44175</th>\n",
       "      <td>10276</td>\n",
       "      <td>2022-02-04 19:10:02</td>\n",
       "      <td>301.0</td>\n",
       "      <td>NaN</td>\n",
       "      <td>VIEW_PRODUCT</td>\n",
       "      <td>5</td>\n",
       "      <td>NaN</td>\n",
       "    </tr>\n",
       "    <tr>\n",
       "      <th>44240</th>\n",
       "      <td>10293</td>\n",
       "      <td>2022-01-13 07:41:16</td>\n",
       "      <td>301.0</td>\n",
       "      <td>NaN</td>\n",
       "      <td>VIEW_PRODUCT</td>\n",
       "      <td>20</td>\n",
       "      <td>NaN</td>\n",
       "    </tr>\n",
       "    <tr>\n",
       "      <th>44273</th>\n",
       "      <td>10300</td>\n",
       "      <td>2022-03-17 04:26:48</td>\n",
       "      <td>301.0</td>\n",
       "      <td>NaN</td>\n",
       "      <td>VIEW_PRODUCT</td>\n",
       "      <td>10</td>\n",
       "      <td>NaN</td>\n",
       "    </tr>\n",
       "    <tr>\n",
       "      <th>44275</th>\n",
       "      <td>10300</td>\n",
       "      <td>2022-03-17 04:29:55</td>\n",
       "      <td>301.0</td>\n",
       "      <td>NaN</td>\n",
       "      <td>VIEW_PRODUCT</td>\n",
       "      <td>10</td>\n",
       "      <td>NaN</td>\n",
       "    </tr>\n",
       "    <tr>\n",
       "      <th>44284</th>\n",
       "      <td>10302</td>\n",
       "      <td>2022-03-10 14:24:58</td>\n",
       "      <td>301.0</td>\n",
       "      <td>NaN</td>\n",
       "      <td>VIEW_PRODUCT</td>\n",
       "      <td>20</td>\n",
       "      <td>NaN</td>\n",
       "    </tr>\n",
       "  </tbody>\n",
       "</table>\n",
       "<p>2185 rows × 7 columns</p>\n",
       "</div>"
      ],
      "text/plain": [
       "       session_id           timestamp  user_id  product_id    event_type  \\\n",
       "18            129 2022-01-18 14:14:16    102.0         NaN  VIEW_PRODUCT   \n",
       "19            129 2022-01-18 14:18:32    102.0         NaN  VIEW_PRODUCT   \n",
       "29            130 2022-03-16 21:35:40    102.0         NaN  VIEW_PRODUCT   \n",
       "47            136 2022-03-21 14:59:29    102.0         NaN  VIEW_PRODUCT   \n",
       "102           150 2022-01-25 09:19:25    102.0         NaN  VIEW_PRODUCT   \n",
       "...           ...                 ...      ...         ...           ...   \n",
       "44175       10276 2022-02-04 19:10:02    301.0         NaN  VIEW_PRODUCT   \n",
       "44240       10293 2022-01-13 07:41:16    301.0         NaN  VIEW_PRODUCT   \n",
       "44273       10300 2022-03-17 04:26:48    301.0         NaN  VIEW_PRODUCT   \n",
       "44275       10300 2022-03-17 04:29:55    301.0         NaN  VIEW_PRODUCT   \n",
       "44284       10302 2022-03-10 14:24:58    301.0         NaN  VIEW_PRODUCT   \n",
       "\n",
       "       offered_discount  purchase_id  \n",
       "18                   15          NaN  \n",
       "19                   15          NaN  \n",
       "29                   10          NaN  \n",
       "47                   15          NaN  \n",
       "102                   0          NaN  \n",
       "...                 ...          ...  \n",
       "44175                 5          NaN  \n",
       "44240                20          NaN  \n",
       "44273                10          NaN  \n",
       "44275                10          NaN  \n",
       "44284                20          NaN  \n",
       "\n",
       "[2185 rows x 7 columns]"
      ]
     },
     "execution_count": 257,
     "metadata": {},
     "output_type": "execute_result"
    }
   ],
   "source": [
    "data_df[data_df.product_id.isnull()]"
   ]
  },
  {
   "cell_type": "markdown",
   "metadata": {},
   "source": [
    "Nie widać jasnego powodu dlaczego w ok. 5% przypadków występuje brak w kolumnie *user_id* i *product_id*, dlatego też nie podejrzewa się informatywnego błędu systematycznego. **W tej sytuacji wiersze z brakami w tymi kolumnach podda się usunięciu.**"
   ]
  },
  {
   "cell_type": "code",
   "execution_count": 258,
   "metadata": {},
   "outputs": [
    {
     "data": {
      "text/plain": [
       "(40081, 7)"
      ]
     },
     "execution_count": 258,
     "metadata": {},
     "output_type": "execute_result"
    }
   ],
   "source": [
    "data_df=data_df[data_df.user_id.notnull()]\n",
    "data_df=data_df[data_df.product_id.notnull()]\n",
    "data_df.shape"
   ]
  },
  {
   "cell_type": "markdown",
   "metadata": {},
   "source": [
    "Można by było też zamienić na jakieś wartości, ale skoro braków jest mało, to chyba mała strata."
   ]
  },
  {
   "cell_type": "markdown",
   "metadata": {},
   "source": [
    "Liczba użytkowników:"
   ]
  },
  {
   "cell_type": "code",
   "execution_count": 259,
   "metadata": {},
   "outputs": [
    {
     "data": {
      "text/plain": [
       "200"
      ]
     },
     "execution_count": 259,
     "metadata": {},
     "output_type": "execute_result"
    }
   ],
   "source": [
    "len(np.unique(data_df.user_id))"
   ]
  },
  {
   "cell_type": "markdown",
   "metadata": {},
   "source": [
    "Liczba sesji:"
   ]
  },
  {
   "cell_type": "code",
   "execution_count": 260,
   "metadata": {},
   "outputs": [
    {
     "data": {
      "text/plain": [
       "9972"
      ]
     },
     "execution_count": 260,
     "metadata": {},
     "output_type": "execute_result"
    }
   ],
   "source": [
    "len(np.unique(data_df.session_id))"
   ]
  },
  {
   "cell_type": "markdown",
   "metadata": {},
   "source": [
    "Liczba produktów:"
   ]
  },
  {
   "cell_type": "code",
   "execution_count": 261,
   "metadata": {},
   "outputs": [
    {
     "data": {
      "text/plain": [
       "164"
      ]
     },
     "execution_count": 261,
     "metadata": {},
     "output_type": "execute_result"
    }
   ],
   "source": [
    "len(np.unique(data_df.product_id))"
   ]
  },
  {
   "cell_type": "code",
   "execution_count": 262,
   "metadata": {},
   "outputs": [
    {
     "data": {
      "image/png": "[encoded data removed]",
      "text/plain": [
       "<Figure size 432x288 with 1 Axes>"
      ]
     },
     "metadata": {
      "needs_background": "light"
     },
     "output_type": "display_data"
    }
   ],
   "source": [
    "ax = sns.countplot(x=\"offered_discount\", data=data_df)"
   ]
  },
  {
   "cell_type": "markdown",
   "metadata": {},
   "source": [
    "# Time analysis"
   ]
  },
  {
   "cell_type": "markdown",
   "metadata": {},
   "source": [
    "There is no information about time zone therefore we assume that everything is in the same timezone."
   ]
  },
  {
   "cell_type": "code",
   "execution_count": 263,
   "metadata": {},
   "outputs": [],
   "source": [
    "data_df['timestamp']=pd.to_datetime(data_df.timestamp)"
   ]
  },
  {
   "cell_type": "code",
   "execution_count": 264,
   "metadata": {},
   "outputs": [],
   "source": [
    "data_df['date']=data_df['timestamp'].dt.date"
   ]
  },
  {
   "cell_type": "code",
   "execution_count": 265,
   "metadata": {},
   "outputs": [],
   "source": [
    "data_df['time']=data_df['timestamp'].dt.time\n",
    "data_df['day']=data_df['timestamp'].dt.day\n",
    "data_df['month']=data_df['timestamp'].dt.month\n",
    "data_df['year']=data_df['timestamp'].dt.year\n",
    "\n",
    "#data_df.drop('timestamp', axis=1, inplace=True)"
   ]
  },
  {
   "cell_type": "code",
   "execution_count": 266,
   "metadata": {},
   "outputs": [
    {
     "data": {
      "text/plain": [
       "array([2022], dtype=int64)"
      ]
     },
     "execution_count": 266,
     "metadata": {},
     "output_type": "execute_result"
    }
   ],
   "source": [
    "np.unique(data_df.year)"
   ]
  },
  {
   "cell_type": "markdown",
   "metadata": {},
   "source": [
    "Wszystkie rekordy są z tego samego roku, więc informacja o roku nic nie wnosi i można ją usunąć."
   ]
  },
  {
   "cell_type": "code",
   "execution_count": 267,
   "metadata": {},
   "outputs": [
    {
     "data": {
      "text/plain": [
       "array([1, 2, 3], dtype=int64)"
      ]
     },
     "execution_count": 267,
     "metadata": {},
     "output_type": "execute_result"
    }
   ],
   "source": [
    "np.unique(data_df.month)"
   ]
  },
  {
   "cell_type": "markdown",
   "metadata": {},
   "source": [
    "Informacje są tylko z pierwszego kwartału 2022r. "
   ]
  },
  {
   "cell_type": "code",
   "execution_count": 268,
   "metadata": {},
   "outputs": [
    {
     "name": "stdout",
     "output_type": "stream",
     "text": [
      "DatetimeIndex(['2022-03-29', '2022-03-30', '2022-03-31'], dtype='datetime64[ns]', freq=None)\n"
     ]
    }
   ],
   "source": [
    "print(pd.date_range(\n",
    "  start=\"2022-01-01\", end=\"2022-03-31\").difference(data_df.date))"
   ]
  },
  {
   "cell_type": "markdown",
   "metadata": {},
   "source": [
    "Okazuje się, że informacja nie jest z całych trzech miesięcy, tj. kończy się w dniu 28-03-2022."
   ]
  },
  {
   "cell_type": "code",
   "execution_count": 269,
   "metadata": {},
   "outputs": [
    {
     "data": {
      "text/plain": [
       "'1'"
      ]
     },
     "execution_count": 269,
     "metadata": {},
     "output_type": "execute_result"
    }
   ],
   "source": [
    "data_df['timestamp'][0].strftime(\"%w\")  # day of week  -- transform in such a way to df"
   ]
  },
  {
   "cell_type": "code",
   "execution_count": 270,
   "metadata": {},
   "outputs": [],
   "source": [
    "# we should have both info about day of week and day of month"
   ]
  },
  {
   "cell_type": "code",
   "execution_count": 271,
   "metadata": {},
   "outputs": [],
   "source": [
    "data_df['hour']=data_df['timestamp'].dt.hour"
   ]
  },
  {
   "cell_type": "code",
   "execution_count": 272,
   "metadata": {},
   "outputs": [],
   "source": [
    "### hour, day of week, day of month - we will cyclic feature encoding"
   ]
  },
  {
   "attachments": {
    "image.png": {
     "image/png": "[encoded data removed]"
    }
   },
   "cell_type": "markdown",
   "metadata": {},
   "source": [
    "![image.png](attachment:image.png)"
   ]
  },
  {
   "cell_type": "markdown",
   "metadata": {},
   "source": [
    "https://www.kaggle.com/code/avanwyk/encoding-cyclical-features-for-deep-learning/notebook"
   ]
  },
  {
   "cell_type": "code",
   "execution_count": 273,
   "metadata": {},
   "outputs": [],
   "source": [
    "data_df['hour_sin'] = np.sin(2 * np.pi * data_df['hour']/23.0)\n",
    "data_df['hour_cos'] = np.cos(2 * np.pi * data_df['hour']/23.0)"
   ]
  },
  {
   "cell_type": "code",
   "execution_count": 274,
   "metadata": {},
   "outputs": [
    {
     "data": {
      "text/html": [
       "<div>\n",
       "<style scoped>\n",
       "    .dataframe tbody tr th:only-of-type {\n",
       "        vertical-align: middle;\n",
       "    }\n",
       "\n",
       "    .dataframe tbody tr th {\n",
       "        vertical-align: top;\n",
       "    }\n",
       "\n",
       "    .dataframe thead th {\n",
       "        text-align: right;\n",
       "    }\n",
       "</style>\n",
       "<table border=\"1\" class=\"dataframe\">\n",
       "  <thead>\n",
       "    <tr style=\"text-align: right;\">\n",
       "      <th></th>\n",
       "      <th>session_id</th>\n",
       "      <th>timestamp</th>\n",
       "      <th>user_id</th>\n",
       "      <th>product_id</th>\n",
       "      <th>event_type</th>\n",
       "      <th>offered_discount</th>\n",
       "      <th>purchase_id</th>\n",
       "      <th>date</th>\n",
       "      <th>time</th>\n",
       "      <th>day</th>\n",
       "      <th>month</th>\n",
       "      <th>year</th>\n",
       "      <th>hour</th>\n",
       "      <th>hour_sin</th>\n",
       "      <th>hour_cos</th>\n",
       "    </tr>\n",
       "  </thead>\n",
       "  <tbody>\n",
       "    <tr>\n",
       "      <th>0</th>\n",
       "      <td>124</td>\n",
       "      <td>2022-01-10 00:55:41</td>\n",
       "      <td>102.0</td>\n",
       "      <td>1117.0</td>\n",
       "      <td>VIEW_PRODUCT</td>\n",
       "      <td>10</td>\n",
       "      <td>NaN</td>\n",
       "      <td>2022-01-10</td>\n",
       "      <td>00:55:41</td>\n",
       "      <td>10</td>\n",
       "      <td>1</td>\n",
       "      <td>2022</td>\n",
       "      <td>0</td>\n",
       "      <td>0.000000</td>\n",
       "      <td>1.000000</td>\n",
       "    </tr>\n",
       "    <tr>\n",
       "      <th>1</th>\n",
       "      <td>125</td>\n",
       "      <td>2022-03-08 19:21:47</td>\n",
       "      <td>102.0</td>\n",
       "      <td>1538.0</td>\n",
       "      <td>VIEW_PRODUCT</td>\n",
       "      <td>15</td>\n",
       "      <td>NaN</td>\n",
       "      <td>2022-03-08</td>\n",
       "      <td>19:21:47</td>\n",
       "      <td>8</td>\n",
       "      <td>3</td>\n",
       "      <td>2022</td>\n",
       "      <td>19</td>\n",
       "      <td>-0.887885</td>\n",
       "      <td>0.460065</td>\n",
       "    </tr>\n",
       "    <tr>\n",
       "      <th>2</th>\n",
       "      <td>125</td>\n",
       "      <td>2022-03-08 19:23:58</td>\n",
       "      <td>102.0</td>\n",
       "      <td>1539.0</td>\n",
       "      <td>VIEW_PRODUCT</td>\n",
       "      <td>15</td>\n",
       "      <td>NaN</td>\n",
       "      <td>2022-03-08</td>\n",
       "      <td>19:23:58</td>\n",
       "      <td>8</td>\n",
       "      <td>3</td>\n",
       "      <td>2022</td>\n",
       "      <td>19</td>\n",
       "      <td>-0.887885</td>\n",
       "      <td>0.460065</td>\n",
       "    </tr>\n",
       "    <tr>\n",
       "      <th>3</th>\n",
       "      <td>125</td>\n",
       "      <td>2022-03-08 19:27:27</td>\n",
       "      <td>102.0</td>\n",
       "      <td>1545.0</td>\n",
       "      <td>VIEW_PRODUCT</td>\n",
       "      <td>15</td>\n",
       "      <td>NaN</td>\n",
       "      <td>2022-03-08</td>\n",
       "      <td>19:27:27</td>\n",
       "      <td>8</td>\n",
       "      <td>3</td>\n",
       "      <td>2022</td>\n",
       "      <td>19</td>\n",
       "      <td>-0.887885</td>\n",
       "      <td>0.460065</td>\n",
       "    </tr>\n",
       "    <tr>\n",
       "      <th>4</th>\n",
       "      <td>125</td>\n",
       "      <td>2022-03-08 19:30:22</td>\n",
       "      <td>102.0</td>\n",
       "      <td>1541.0</td>\n",
       "      <td>VIEW_PRODUCT</td>\n",
       "      <td>15</td>\n",
       "      <td>NaN</td>\n",
       "      <td>2022-03-08</td>\n",
       "      <td>19:30:22</td>\n",
       "      <td>8</td>\n",
       "      <td>3</td>\n",
       "      <td>2022</td>\n",
       "      <td>19</td>\n",
       "      <td>-0.887885</td>\n",
       "      <td>0.460065</td>\n",
       "    </tr>\n",
       "    <tr>\n",
       "      <th>...</th>\n",
       "      <td>...</td>\n",
       "      <td>...</td>\n",
       "      <td>...</td>\n",
       "      <td>...</td>\n",
       "      <td>...</td>\n",
       "      <td>...</td>\n",
       "      <td>...</td>\n",
       "      <td>...</td>\n",
       "      <td>...</td>\n",
       "      <td>...</td>\n",
       "      <td>...</td>\n",
       "      <td>...</td>\n",
       "      <td>...</td>\n",
       "      <td>...</td>\n",
       "      <td>...</td>\n",
       "    </tr>\n",
       "    <tr>\n",
       "      <th>44340</th>\n",
       "      <td>10314</td>\n",
       "      <td>2022-01-02 09:36:54</td>\n",
       "      <td>301.0</td>\n",
       "      <td>1628.0</td>\n",
       "      <td>VIEW_PRODUCT</td>\n",
       "      <td>15</td>\n",
       "      <td>NaN</td>\n",
       "      <td>2022-01-02</td>\n",
       "      <td>09:36:54</td>\n",
       "      <td>2</td>\n",
       "      <td>1</td>\n",
       "      <td>2022</td>\n",
       "      <td>9</td>\n",
       "      <td>0.631088</td>\n",
       "      <td>-0.775711</td>\n",
       "    </tr>\n",
       "    <tr>\n",
       "      <th>44341</th>\n",
       "      <td>10314</td>\n",
       "      <td>2022-01-02 09:39:43</td>\n",
       "      <td>301.0</td>\n",
       "      <td>1630.0</td>\n",
       "      <td>VIEW_PRODUCT</td>\n",
       "      <td>15</td>\n",
       "      <td>NaN</td>\n",
       "      <td>2022-01-02</td>\n",
       "      <td>09:39:43</td>\n",
       "      <td>2</td>\n",
       "      <td>1</td>\n",
       "      <td>2022</td>\n",
       "      <td>9</td>\n",
       "      <td>0.631088</td>\n",
       "      <td>-0.775711</td>\n",
       "    </tr>\n",
       "    <tr>\n",
       "      <th>44342</th>\n",
       "      <td>10314</td>\n",
       "      <td>2022-01-02 09:40:30</td>\n",
       "      <td>301.0</td>\n",
       "      <td>1626.0</td>\n",
       "      <td>VIEW_PRODUCT</td>\n",
       "      <td>15</td>\n",
       "      <td>NaN</td>\n",
       "      <td>2022-01-02</td>\n",
       "      <td>09:40:30</td>\n",
       "      <td>2</td>\n",
       "      <td>1</td>\n",
       "      <td>2022</td>\n",
       "      <td>9</td>\n",
       "      <td>0.631088</td>\n",
       "      <td>-0.775711</td>\n",
       "    </tr>\n",
       "    <tr>\n",
       "      <th>44343</th>\n",
       "      <td>10314</td>\n",
       "      <td>2022-01-02 09:42:25</td>\n",
       "      <td>301.0</td>\n",
       "      <td>1634.0</td>\n",
       "      <td>VIEW_PRODUCT</td>\n",
       "      <td>15</td>\n",
       "      <td>NaN</td>\n",
       "      <td>2022-01-02</td>\n",
       "      <td>09:42:25</td>\n",
       "      <td>2</td>\n",
       "      <td>1</td>\n",
       "      <td>2022</td>\n",
       "      <td>9</td>\n",
       "      <td>0.631088</td>\n",
       "      <td>-0.775711</td>\n",
       "    </tr>\n",
       "    <tr>\n",
       "      <th>44344</th>\n",
       "      <td>10314</td>\n",
       "      <td>2022-01-02 09:46:56</td>\n",
       "      <td>301.0</td>\n",
       "      <td>1634.0</td>\n",
       "      <td>BUY_PRODUCT</td>\n",
       "      <td>15</td>\n",
       "      <td>23097.0</td>\n",
       "      <td>2022-01-02</td>\n",
       "      <td>09:46:56</td>\n",
       "      <td>2</td>\n",
       "      <td>1</td>\n",
       "      <td>2022</td>\n",
       "      <td>9</td>\n",
       "      <td>0.631088</td>\n",
       "      <td>-0.775711</td>\n",
       "    </tr>\n",
       "  </tbody>\n",
       "</table>\n",
       "<p>40081 rows × 15 columns</p>\n",
       "</div>"
      ],
      "text/plain": [
       "       session_id           timestamp  user_id  product_id    event_type  \\\n",
       "0             124 2022-01-10 00:55:41    102.0      1117.0  VIEW_PRODUCT   \n",
       "1             125 2022-03-08 19:21:47    102.0      1538.0  VIEW_PRODUCT   \n",
       "2             125 2022-03-08 19:23:58    102.0      1539.0  VIEW_PRODUCT   \n",
       "3             125 2022-03-08 19:27:27    102.0      1545.0  VIEW_PRODUCT   \n",
       "4             125 2022-03-08 19:30:22    102.0      1541.0  VIEW_PRODUCT   \n",
       "...           ...                 ...      ...         ...           ...   \n",
       "44340       10314 2022-01-02 09:36:54    301.0      1628.0  VIEW_PRODUCT   \n",
       "44341       10314 2022-01-02 09:39:43    301.0      1630.0  VIEW_PRODUCT   \n",
       "44342       10314 2022-01-02 09:40:30    301.0      1626.0  VIEW_PRODUCT   \n",
       "44343       10314 2022-01-02 09:42:25    301.0      1634.0  VIEW_PRODUCT   \n",
       "44344       10314 2022-01-02 09:46:56    301.0      1634.0   BUY_PRODUCT   \n",
       "\n",
       "       offered_discount  purchase_id        date      time  day  month  year  \\\n",
       "0                    10          NaN  2022-01-10  00:55:41   10      1  2022   \n",
       "1                    15          NaN  2022-03-08  19:21:47    8      3  2022   \n",
       "2                    15          NaN  2022-03-08  19:23:58    8      3  2022   \n",
       "3                    15          NaN  2022-03-08  19:27:27    8      3  2022   \n",
       "4                    15          NaN  2022-03-08  19:30:22    8      3  2022   \n",
       "...                 ...          ...         ...       ...  ...    ...   ...   \n",
       "44340                15          NaN  2022-01-02  09:36:54    2      1  2022   \n",
       "44341                15          NaN  2022-01-02  09:39:43    2      1  2022   \n",
       "44342                15          NaN  2022-01-02  09:40:30    2      1  2022   \n",
       "44343                15          NaN  2022-01-02  09:42:25    2      1  2022   \n",
       "44344                15      23097.0  2022-01-02  09:46:56    2      1  2022   \n",
       "\n",
       "       hour  hour_sin  hour_cos  \n",
       "0         0  0.000000  1.000000  \n",
       "1        19 -0.887885  0.460065  \n",
       "2        19 -0.887885  0.460065  \n",
       "3        19 -0.887885  0.460065  \n",
       "4        19 -0.887885  0.460065  \n",
       "...     ...       ...       ...  \n",
       "44340     9  0.631088 -0.775711  \n",
       "44341     9  0.631088 -0.775711  \n",
       "44342     9  0.631088 -0.775711  \n",
       "44343     9  0.631088 -0.775711  \n",
       "44344     9  0.631088 -0.775711  \n",
       "\n",
       "[40081 rows x 15 columns]"
      ]
     },
     "execution_count": 274,
     "metadata": {},
     "output_type": "execute_result"
    }
   ],
   "source": [
    "data_df"
   ]
  },
  {
   "cell_type": "markdown",
   "metadata": {},
   "source": [
    "# Analiza zniżek"
   ]
  },
  {
   "cell_type": "code",
   "execution_count": 24,
   "metadata": {},
   "outputs": [
    {
     "data": {
      "text/plain": [
       "(array([9115.,    0.,    0.,    0.,    0., 8965.,    0.,    0.,    0.,\n",
       "           0., 8139.,    0.,    0.,    0.,    0., 8993.,    0.,    0.,\n",
       "           0., 9133.]),\n",
       " array([ 0.,  1.,  2.,  3.,  4.,  5.,  6.,  7.,  8.,  9., 10., 11., 12.,\n",
       "        13., 14., 15., 16., 17., 18., 19., 20.]),\n",
       " <a list of 20 Patch objects>)"
      ]
     },
     "execution_count": 24,
     "metadata": {},
     "output_type": "execute_result"
    },
    {
     "data": {
      "image/png": "[encoded data removed]",
      "text/plain": [
       "<Figure size 432x288 with 1 Axes>"
      ]
     },
     "metadata": {
      "needs_background": "light"
     },
     "output_type": "display_data"
    }
   ],
   "source": [
    "plt.hist(data_df['offered_discount'], bins=20)"
   ]
  },
  {
   "cell_type": "code",
   "execution_count": 31,
   "metadata": {},
   "outputs": [
    {
     "data": {
      "text/plain": [
       "<BarContainer object of 5 artists>"
      ]
     },
     "execution_count": 31,
     "metadata": {},
     "output_type": "execute_result"
    },
    {
     "data": {
      "image/png": "[encoded data removed]",
      "text/plain": [
       "<Figure size 432x288 with 1 Axes>"
      ]
     },
     "metadata": {
      "needs_background": "light"
     },
     "output_type": "display_data"
    }
   ],
   "source": [
    "data_df['event_type']=data_df['event_type'].map({'VIEW_PRODUCT':0, 'BUY_PRODUCT':1})\n",
    "discount_buy=data_df.groupby(['offered_discount'])['event_type'].mean()\n",
    "plt.bar(discount_buy.index, discount_buy)"
   ]
  },
  {
   "cell_type": "code",
   "execution_count": 33,
   "metadata": {},
   "outputs": [
    {
     "data": {
      "text/plain": [
       "(array([ 4.,  4., 16., 72., 74., 24.,  3.,  2.,  0.,  1.]),\n",
       " array([ 3.38383838,  5.04545455,  6.70707071,  8.36868687, 10.03030303,\n",
       "        11.69191919, 13.35353535, 15.01515152, 16.67676768, 18.33838384,\n",
       "        20.        ]),\n",
       " <a list of 10 Patch objects>)"
      ]
     },
     "execution_count": 33,
     "metadata": {},
     "output_type": "execute_result"
    },
    {
     "data": {
      "image/png": "[encoded data removed]",
      "text/plain": [
       "<Figure size 432x288 with 1 Axes>"
      ]
     },
     "metadata": {
      "needs_background": "light"
     },
     "output_type": "display_data"
    }
   ],
   "source": [
    "discount_user=data_df.groupby(['user_id'])['offered_discount'].mean()\n",
    "plt.hist(discount_user)"
   ]
  },
  {
   "cell_type": "code",
   "execution_count": null,
   "metadata": {},
   "outputs": [],
   "source": []
  },
  {
   "cell_type": "code",
   "execution_count": null,
   "metadata": {},
   "outputs": [],
   "source": []
  }
 ],
 "metadata": {
  "kernelspec": {
   "display_name": "Python 3",
   "language": "python",
   "name": "python3"
  },
  "language_info": {
   "codemirror_mode": {
    "name": "ipython",
    "version": 3
   },
   "file_extension": ".py",
   "mimetype": "text/x-python",
   "name": "python",
   "nbconvert_exporter": "python",
   "pygments_lexer": "ipython3",
   "version": "3.7.4"
  }
 },
 "nbformat": 4,
 "nbformat_minor": 2
}
