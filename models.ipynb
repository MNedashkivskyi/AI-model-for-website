{
  "nbformat": 4,
  "nbformat_minor": 0,
  "metadata": {
    "colab": {
      "name": "IUM_model.ipynb",
      "provenance": [],
      "collapsed_sections": []
    },
    "kernelspec": {
      "name": "python3",
      "display_name": "Python 3"
    },
    "language_info": {
      "name": "python"
    },
    "accelerator": "GPU",
    "widgets": {
      "application/vnd.jupyter.widget-state+json": {
        "442be2f854d447e081e3b6d5b125248d": {
          "model_module": "@jupyter-widgets/controls",
          "model_name": "HBoxModel",
          "model_module_version": "1.5.0",
          "state": {
            "_dom_classes": [],
            "_model_module": "@jupyter-widgets/controls",
            "_model_module_version": "1.5.0",
            "_model_name": "HBoxModel",
            "_view_count": null,
            "_view_module": "@jupyter-widgets/controls",
            "_view_module_version": "1.5.0",
            "_view_name": "HBoxView",
            "box_style": "",
            "children": [
              "IPY_MODEL_7a7c3aa574644d1c8245de0e2d82e661",
              "IPY_MODEL_7f241bd617334f49b620de52fa27411b",
              "IPY_MODEL_77a01e1e0a7d499798ce1c729e0b3986"
            ],
            "layout": "IPY_MODEL_d2aa9b1db6534e2a8e6703efff7fd4ae"
          }
        },
        "7a7c3aa574644d1c8245de0e2d82e661": {
          "model_module": "@jupyter-widgets/controls",
          "model_name": "HTMLModel",
          "model_module_version": "1.5.0",
          "state": {
            "_dom_classes": [],
            "_model_module": "@jupyter-widgets/controls",
            "_model_module_version": "1.5.0",
            "_model_name": "HTMLModel",
            "_view_count": null,
            "_view_module": "@jupyter-widgets/controls",
            "_view_module_version": "1.5.0",
            "_view_name": "HTMLView",
            "description": "",
            "description_tooltip": null,
            "layout": "IPY_MODEL_d831779d38cf4b27afaa6848391b4045",
            "placeholder": "​",
            "style": "IPY_MODEL_fa2cd0447f7a41c6b9cc55625d416d6f",
            "value": "Optimization Progress: "
          }
        },
        "7f241bd617334f49b620de52fa27411b": {
          "model_module": "@jupyter-widgets/controls",
          "model_name": "FloatProgressModel",
          "model_module_version": "1.5.0",
          "state": {
            "_dom_classes": [],
            "_model_module": "@jupyter-widgets/controls",
            "_model_module_version": "1.5.0",
            "_model_name": "FloatProgressModel",
            "_view_count": null,
            "_view_module": "@jupyter-widgets/controls",
            "_view_module_version": "1.5.0",
            "_view_name": "ProgressView",
            "bar_style": "",
            "description": "",
            "description_tooltip": null,
            "layout": "IPY_MODEL_72c85367b9ea4ad381035a32b94ca497",
            "max": 400,
            "min": 0,
            "orientation": "horizontal",
            "style": "IPY_MODEL_ad0dcdf5e514455b86bbf358c56a08ae",
            "value": 400
          }
        },
        "77a01e1e0a7d499798ce1c729e0b3986": {
          "model_module": "@jupyter-widgets/controls",
          "model_name": "HTMLModel",
          "model_module_version": "1.5.0",
          "state": {
            "_dom_classes": [],
            "_model_module": "@jupyter-widgets/controls",
            "_model_module_version": "1.5.0",
            "_model_name": "HTMLModel",
            "_view_count": null,
            "_view_module": "@jupyter-widgets/controls",
            "_view_module_version": "1.5.0",
            "_view_name": "HTMLView",
            "description": "",
            "description_tooltip": null,
            "layout": "IPY_MODEL_7367410acb084a5abc8f5610c91d79e5",
            "placeholder": "​",
            "style": "IPY_MODEL_70351b93a10140b5808f6ff5a4197efd",
            "value": " 402/? [30:17&lt;00:00,  5.25s/pipeline]"
          }
        },
        "d2aa9b1db6534e2a8e6703efff7fd4ae": {
          "model_module": "@jupyter-widgets/base",
          "model_name": "LayoutModel",
          "model_module_version": "1.2.0",
          "state": {
            "_model_module": "@jupyter-widgets/base",
            "_model_module_version": "1.2.0",
            "_model_name": "LayoutModel",
            "_view_count": null,
            "_view_module": "@jupyter-widgets/base",
            "_view_module_version": "1.2.0",
            "_view_name": "LayoutView",
            "align_content": null,
            "align_items": null,
            "align_self": null,
            "border": null,
            "bottom": null,
            "display": null,
            "flex": null,
            "flex_flow": null,
            "grid_area": null,
            "grid_auto_columns": null,
            "grid_auto_flow": null,
            "grid_auto_rows": null,
            "grid_column": null,
            "grid_gap": null,
            "grid_row": null,
            "grid_template_areas": null,
            "grid_template_columns": null,
            "grid_template_rows": null,
            "height": null,
            "justify_content": null,
            "justify_items": null,
            "left": null,
            "margin": null,
            "max_height": null,
            "max_width": null,
            "min_height": null,
            "min_width": null,
            "object_fit": null,
            "object_position": null,
            "order": null,
            "overflow": null,
            "overflow_x": null,
            "overflow_y": null,
            "padding": null,
            "right": null,
            "top": null,
            "visibility": null,
            "width": null
          }
        },
        "d831779d38cf4b27afaa6848391b4045": {
          "model_module": "@jupyter-widgets/base",
          "model_name": "LayoutModel",
          "model_module_version": "1.2.0",
          "state": {
            "_model_module": "@jupyter-widgets/base",
            "_model_module_version": "1.2.0",
            "_model_name": "LayoutModel",
            "_view_count": null,
            "_view_module": "@jupyter-widgets/base",
            "_view_module_version": "1.2.0",
            "_view_name": "LayoutView",
            "align_content": null,
            "align_items": null,
            "align_self": null,
            "border": null,
            "bottom": null,
            "display": null,
            "flex": null,
            "flex_flow": null,
            "grid_area": null,
            "grid_auto_columns": null,
            "grid_auto_flow": null,
            "grid_auto_rows": null,
            "grid_column": null,
            "grid_gap": null,
            "grid_row": null,
            "grid_template_areas": null,
            "grid_template_columns": null,
            "grid_template_rows": null,
            "height": null,
            "justify_content": null,
            "justify_items": null,
            "left": null,
            "margin": null,
            "max_height": null,
            "max_width": null,
            "min_height": null,
            "min_width": null,
            "object_fit": null,
            "object_position": null,
            "order": null,
            "overflow": null,
            "overflow_x": null,
            "overflow_y": null,
            "padding": null,
            "right": null,
            "top": null,
            "visibility": null,
            "width": null
          }
        },
        "fa2cd0447f7a41c6b9cc55625d416d6f": {
          "model_module": "@jupyter-widgets/controls",
          "model_name": "DescriptionStyleModel",
          "model_module_version": "1.5.0",
          "state": {
            "_model_module": "@jupyter-widgets/controls",
            "_model_module_version": "1.5.0",
            "_model_name": "DescriptionStyleModel",
            "_view_count": null,
            "_view_module": "@jupyter-widgets/base",
            "_view_module_version": "1.2.0",
            "_view_name": "StyleView",
            "description_width": ""
          }
        },
        "72c85367b9ea4ad381035a32b94ca497": {
          "model_module": "@jupyter-widgets/base",
          "model_name": "LayoutModel",
          "model_module_version": "1.2.0",
          "state": {
            "_model_module": "@jupyter-widgets/base",
            "_model_module_version": "1.2.0",
            "_model_name": "LayoutModel",
            "_view_count": null,
            "_view_module": "@jupyter-widgets/base",
            "_view_module_version": "1.2.0",
            "_view_name": "LayoutView",
            "align_content": null,
            "align_items": null,
            "align_self": null,
            "border": null,
            "bottom": null,
            "display": null,
            "flex": null,
            "flex_flow": null,
            "grid_area": null,
            "grid_auto_columns": null,
            "grid_auto_flow": null,
            "grid_auto_rows": null,
            "grid_column": null,
            "grid_gap": null,
            "grid_row": null,
            "grid_template_areas": null,
            "grid_template_columns": null,
            "grid_template_rows": null,
            "height": null,
            "justify_content": null,
            "justify_items": null,
            "left": null,
            "margin": null,
            "max_height": null,
            "max_width": null,
            "min_height": null,
            "min_width": null,
            "object_fit": null,
            "object_position": null,
            "order": null,
            "overflow": null,
            "overflow_x": null,
            "overflow_y": null,
            "padding": null,
            "right": null,
            "top": null,
            "visibility": null,
            "width": null
          }
        },
        "ad0dcdf5e514455b86bbf358c56a08ae": {
          "model_module": "@jupyter-widgets/controls",
          "model_name": "ProgressStyleModel",
          "model_module_version": "1.5.0",
          "state": {
            "_model_module": "@jupyter-widgets/controls",
            "_model_module_version": "1.5.0",
            "_model_name": "ProgressStyleModel",
            "_view_count": null,
            "_view_module": "@jupyter-widgets/base",
            "_view_module_version": "1.2.0",
            "_view_name": "StyleView",
            "bar_color": null,
            "description_width": ""
          }
        },
        "7367410acb084a5abc8f5610c91d79e5": {
          "model_module": "@jupyter-widgets/base",
          "model_name": "LayoutModel",
          "model_module_version": "1.2.0",
          "state": {
            "_model_module": "@jupyter-widgets/base",
            "_model_module_version": "1.2.0",
            "_model_name": "LayoutModel",
            "_view_count": null,
            "_view_module": "@jupyter-widgets/base",
            "_view_module_version": "1.2.0",
            "_view_name": "LayoutView",
            "align_content": null,
            "align_items": null,
            "align_self": null,
            "border": null,
            "bottom": null,
            "display": null,
            "flex": null,
            "flex_flow": null,
            "grid_area": null,
            "grid_auto_columns": null,
            "grid_auto_flow": null,
            "grid_auto_rows": null,
            "grid_column": null,
            "grid_gap": null,
            "grid_row": null,
            "grid_template_areas": null,
            "grid_template_columns": null,
            "grid_template_rows": null,
            "height": null,
            "justify_content": null,
            "justify_items": null,
            "left": null,
            "margin": null,
            "max_height": null,
            "max_width": null,
            "min_height": null,
            "min_width": null,
            "object_fit": null,
            "object_position": null,
            "order": null,
            "overflow": null,
            "overflow_x": null,
            "overflow_y": null,
            "padding": null,
            "right": null,
            "top": null,
            "visibility": null,
            "width": null
          }
        },
        "70351b93a10140b5808f6ff5a4197efd": {
          "model_module": "@jupyter-widgets/controls",
          "model_name": "DescriptionStyleModel",
          "model_module_version": "1.5.0",
          "state": {
            "_model_module": "@jupyter-widgets/controls",
            "_model_module_version": "1.5.0",
            "_model_name": "DescriptionStyleModel",
            "_view_count": null,
            "_view_module": "@jupyter-widgets/base",
            "_view_module_version": "1.2.0",
            "_view_name": "StyleView",
            "description_width": ""
          }
        }
      }
    }
  },
  "cells": [
    {
      "cell_type": "markdown",
      "source": [
        "# Budowanie modeli - zad 5_2"
      ],
      "metadata": {
        "id": "6XmBY9yRmpKq"
      }
    },
    {
      "cell_type": "markdown",
      "source": [
        "### Generowanie zbioru treningowego i walidacyjnego"
      ],
      "metadata": {
        "id": "MA-2caeVm1CR"
      }
    },
    {
      "cell_type": "code",
      "source": [
        "from pandas.core.arrays import datetimes\n",
        "import json\n",
        "import itertools\n",
        "import pandas as pd\n",
        "import numpy as np\n",
        "import datetime\n",
        "import warnings\n",
        "warnings.filterwarnings('ignore')\n",
        "\n",
        "\n",
        "def prepare_data(data_begin, data_end):\n",
        "    events_data = pd.read_json(\"/content/drive/My Drive/IUM/sessions.jsonl\", lines=True)\n",
        "    products_data = pd.read_json(\"/content/drive/My Drive/IUM/products.jsonl\", lines=True)\n",
        "\n",
        "    events_data['year'] = events_data.timestamp.dt.year\n",
        "    events_data['month'] = events_data.timestamp.dt.month\n",
        "\n",
        "    years = list(events_data.year.unique())\n",
        "    months = list(events_data.month.unique())\n",
        "    user_ids = list(events_data.user_id.unique())\n",
        "\n",
        "    triplets = []\n",
        "    for triplet in itertools.product(years, months, user_ids):\n",
        "        triplets.append(triplet)\n",
        "\n",
        "    dates=pd.date_range(data_begin,data_end, \n",
        "              freq='MS').tolist()\n",
        "\n",
        "  \n",
        "    processed_data = pd.DataFrame(triplets, columns=['year', 'month', 'user_id'])\n",
        " \n",
        "\n",
        "    buying_events_month = events_data[events_data['event_type'] == 'BUY_PRODUCT'].groupby(\n",
        "        ['user_id', 'month', 'year']).aggregate({'session_id': 'count'}).rename(\n",
        "        columns={'session_id': 'buying_events_month'}).reset_index()\n",
        "\n",
        "\n",
        "    all_events_month = events_data.groupby(\n",
        "    ['user_id', 'month', 'year']).aggregate({'session_id': 'count'}).rename(\n",
        "    columns={'session_id': 'all_events_month'}).reset_index()\n",
        "\n",
        "    for i, date in enumerate(dates):\n",
        "      first_month, first_year = date.month, date.year\n",
        "     \n",
        "      buying_events_first_month = buying_events_month[\n",
        "          (buying_events_month['month'] == first_month) & (buying_events_month['year'] == first_year)]\n",
        "\n",
        "      if first_month == 12:\n",
        "        second_month = 1\n",
        "        second_year=first_year+1\n",
        "      else:\n",
        "        second_month = first_month + 1\n",
        "        second_year=first_year\n",
        "\n",
        "      buying_events_second_month = buying_events_month[\n",
        "          (buying_events_month['month'] == second_month) & (buying_events_month['year'] == second_year)]\n",
        "\n",
        "      ######## just to make merge easier\n",
        "      buying_events_second_month['month'] = first_month\n",
        "      buying_events_second_month['year'] = first_year\n",
        "\n",
        " \n",
        "      all_events_first_month = all_events_month[\n",
        "          (all_events_month['month'] == first_month) & (all_events_month['year'] == first_year)]\n",
        "     \n",
        "      all_events_second_month = all_events_month[\n",
        "          (all_events_month['month'] == second_month) & (all_events_month['year'] == second_year)]\n",
        "\n",
        "\n",
        "      ######## just to make merge easier\n",
        "      all_events_second_month['month'] = first_month\n",
        "      all_events_second_month['year'] = first_year\n",
        "\n",
        "      df=pd.merge(buying_events_first_month, buying_events_second_month, how='left', on=['year', 'month', 'user_id'])#, \n",
        "  \n",
        "      df=pd.merge(df, all_events_first_month, how='left', on=['year', 'month', 'user_id'])\n",
        "      df=pd.merge(df, all_events_second_month, how='left', on=['year', 'month', 'user_id'])\n",
        "\n",
        "      df.fillna(0,inplace=True)\n",
        "\n",
        "\n",
        "      df['first_month_sin']=np.sin(df['month'] * (2. * np.pi / 12))\n",
        "      df['first_month_cos']=np.cos(df['month'] * (2. * np.pi / 12))\n",
        "\n",
        "\n",
        "      buying_sessions = events_data[events_data['event_type'] == 'BUY_PRODUCT']\n",
        "  \n",
        "\n",
        "      deals = pd.merge(buying_sessions, products_data[['product_id','price']], how='left', on=['product_id'])\n",
        "      deals['final_price'] = deals['price']\n",
        "\n",
        "      pd.set_option(\"display.max_rows\", None, \"display.max_columns\", None)\n",
        "\n",
        "      spent_money_first_month = deals[(deals.timestamp.dt.month == first_month) & (deals.timestamp.dt.year == first_year)].groupby('user_id').aggregate(  \n",
        "          {'final_price': 'sum'}).rename(columns={'final_price': 'spent_money_first_month'}).reset_index()\n",
        "\n",
        "      spent_money_second_month = deals[(deals.timestamp.dt.month == second_month) & (deals.timestamp.dt.year ==second_year)].groupby('user_id').aggregate(\n",
        "          {'final_price': 'sum'}).rename(\n",
        "          columns={'final_price': 'spent_money_second_month'}).reset_index()\n",
        "\n",
        "      if second_month == 12:\n",
        "        third_month = 1\n",
        "        third_year=second_year+1\n",
        "      else:\n",
        "        third_month = second_month + 1\n",
        "        third_year=second_year\n",
        "\n",
        "\n",
        "      spent_money_third_month = deals[(deals.timestamp.dt.month == third_month) & (deals.timestamp.dt.year == third_year)].groupby('user_id').aggregate(\n",
        "          {'final_price': 'sum'}).rename(\n",
        "          columns={'final_price': 'spent_money_third_month'}).reset_index()\n",
        "\n",
        "      spent_money_average = pd.merge(spent_money_first_month, spent_money_second_month, how='left', on=['user_id'])\n",
        "      spent_money_average['spent_money_second_month'].fillna(0, inplace=True)\n",
        "      spent_money_average['spent_money_total_average'] = spent_money_average[['spent_money_first_month',\n",
        "                                                                              'spent_money_second_month']].sum(axis=1) / 2\n",
        "\n",
        "\n",
        "      spent_money_average = pd.merge(spent_money_average, spent_money_third_month, how='left', on=['user_id'])\n",
        "      spent_money_average['spent_money_third_month'].fillna(0, inplace=True)\n",
        "\n",
        "      spent_money_average['label'] = np.where(spent_money_average['spent_money_third_month'] - spent_money_average['spent_money_total_average'] > 100, 1, 0)\n",
        "      processed_data = pd.merge(df, spent_money_average[['spent_money_first_month', 'spent_money_second_month', 'user_id', 'label']], how='left', on=['user_id'])\n",
        "\n",
        "      processed_data['label'].fillna(0, inplace=True)\n",
        "      processed_data = processed_data.sort_values(by=['user_id']).reset_index()\n",
        "\n",
        "\n",
        "      del processed_data['index']\n",
        "      del processed_data['user_id']\n",
        "      del processed_data['month']\n",
        " \n",
        "      processed_data = processed_data.drop_duplicates(keep='first')\n",
        "      #print(processed_data.shape)\n",
        "      if i==0:\n",
        "        dataset=processed_data\n",
        "      else:\n",
        "        dataset=pd.concat([dataset, processed_data])\n",
        "\n",
        "    return dataset\n",
        "      \n",
        "df_train=prepare_data('2019.09.01', '2021.12.31')\n",
        "df_train.to_csv('processed_data_train.csv')"
      ],
      "metadata": {
        "id": "EqPrZ1XgUTmu"
      },
      "execution_count": 29,
      "outputs": []
    },
    {
      "cell_type": "code",
      "source": [
        "df_val=prepare_data('2021.01.01', '2021.03.31')\n",
        "df_val.to_csv('processed_data_val.csv')"
      ],
      "metadata": {
        "id": "RLA4JM_OXzSW"
      },
      "execution_count": 30,
      "outputs": []
    },
    {
      "cell_type": "markdown",
      "source": [
        "Podział na zbiór treningowy i walidacyjny odbył się w sposób zgodny z dziedziną szeregów czasowych, tj. zbiór treningowy i walidacyjny mają rekordy z różnych chwil czasu. Jest to inne podejście niż w przypadku gdy całą ramkę danych dzieli się losowo w stosunku 70:30 albo 80:20."
      ],
      "metadata": {
        "id": "I4crTiykn-fU"
      }
    },
    {
      "cell_type": "code",
      "source": [
        "print(df_train.shape, df_val.shape)"
      ],
      "metadata": {
        "colab": {
          "base_uri": "https://localhost:8080/"
        },
        "id": "25HSxDqwn3vH",
        "outputId": "d7c8753c-33ef-4a4b-a41e-3ed509d9127a"
      },
      "execution_count": 32,
      "outputs": [
        {
          "output_type": "stream",
          "name": "stdout",
          "text": [
            "(5890, 10) (760, 10)\n"
          ]
        }
      ]
    },
    {
      "cell_type": "markdown",
      "source": [
        "### Tworzenie modeli"
      ],
      "metadata": {
        "id": "kd_vRMzYnXLj"
      }
    },
    {
      "cell_type": "code",
      "source": [
        "import sklearn "
      ],
      "metadata": {
        "id": "IKJBwosqYJ_t"
      },
      "execution_count": 3,
      "outputs": []
    },
    {
      "cell_type": "code",
      "source": [
        "np.random.seed(0)"
      ],
      "metadata": {
        "id": "tajifpIgqXxh"
      },
      "execution_count": 36,
      "outputs": []
    },
    {
      "cell_type": "code",
      "source": [
        "df_train.columns"
      ],
      "metadata": {
        "colab": {
          "base_uri": "https://localhost:8080/"
        },
        "id": "lqc1Kp99Ybsa",
        "outputId": "b19b2fd4-808d-444b-8a14-16910892976f"
      },
      "execution_count": 37,
      "outputs": [
        {
          "output_type": "execute_result",
          "data": {
            "text/plain": [
              "Index(['year', 'buying_events_month_x', 'buying_events_month_y',\n",
              "       'all_events_month_x', 'all_events_month_y', 'first_month_sin',\n",
              "       'first_month_cos', 'spent_money_first_month',\n",
              "       'spent_money_second_month', 'label'],\n",
              "      dtype='object')"
            ]
          },
          "metadata": {},
          "execution_count": 37
        }
      ]
    },
    {
      "cell_type": "markdown",
      "source": [
        "Wyodrębnienie zmiennych wejściowych do modelu i etykiet."
      ],
      "metadata": {
        "id": "GYt9n7DmoZMV"
      }
    },
    {
      "cell_type": "code",
      "source": [
        "X_train, y_train = df_train.iloc[:,:-1], df_train.iloc[:,-1]\n",
        "X_val, y_val = df_val.iloc[:,:-1], df_val.iloc[:,-1]"
      ],
      "metadata": {
        "id": "lfJF_Ux-Zw0K"
      },
      "execution_count": 38,
      "outputs": []
    },
    {
      "cell_type": "code",
      "source": [
        "df_train['label'].mean()"
      ],
      "metadata": {
        "colab": {
          "base_uri": "https://localhost:8080/"
        },
        "id": "wT6KFVIlYtwc",
        "outputId": "6dd5d5a4-cfb1-4ed9-8664-aa993f7fb8c6"
      },
      "execution_count": 39,
      "outputs": [
        {
          "output_type": "execute_result",
          "data": {
            "text/plain": [
              "0.2266553480475382"
            ]
          },
          "metadata": {},
          "execution_count": 39
        }
      ]
    },
    {
      "cell_type": "code",
      "source": [
        "df_val['label'].mean()"
      ],
      "metadata": {
        "colab": {
          "base_uri": "https://localhost:8080/"
        },
        "id": "4WOZRGhbndze",
        "outputId": "f9d1e90d-20d2-48f3-befe-4ee9d51f8d56"
      },
      "execution_count": 40,
      "outputs": [
        {
          "output_type": "execute_result",
          "data": {
            "text/plain": [
              "0.2236842105263158"
            ]
          },
          "metadata": {},
          "execution_count": 40
        }
      ]
    },
    {
      "cell_type": "markdown",
      "source": [
        "Zbiór treningowy i walidacyjny są wysoko niezbalansowane - mają tylko ok. 22% wartości pozytywnej w etykietach. Zdecydowaliśmy się nie dokonywać over/undersamplingu z uwagi na informację na wykładzie, że poziom niezbalansowania nawet na poziomie 10:90 pozwala na wytrenowanie modelu bez dodatkowych przekształceń balansujących. "
      ],
      "metadata": {
        "id": "Y4QkFtI3ogyV"
      }
    },
    {
      "cell_type": "markdown",
      "source": [
        "W tej sytuacji należy pamiętać, że model naiwny, który zawsze będzie zwracać wartość 0, będzie miał accuracy na poziomie ok. 77.6%. Dlatego też wartości accuracy większe od tego poziomu będą dopiero oznaczać, że model wnosi wartość dodaną."
      ],
      "metadata": {
        "id": "daA9_6ywpfXU"
      }
    },
    {
      "cell_type": "markdown",
      "source": [
        "W pierwszych próbach wytrenowania modeli, nie wykonaliśmy normalizacji danych, aby sprawdzić jaką jakość modelu jesteśmy w stanie uzyskac na danych surowych."
      ],
      "metadata": {
        "id": "bPotXSjmqBcs"
      }
    },
    {
      "cell_type": "markdown",
      "source": [
        "### Naive Bayes"
      ],
      "metadata": {
        "id": "L6WxWXpsp3_Q"
      }
    },
    {
      "cell_type": "code",
      "source": [
        "from sklearn.naive_bayes import GaussianNB\n",
        "model=GaussianNB()\n",
        "model.fit(X_train, y_train)\n",
        "model.score(X_train, y_train)"
      ],
      "metadata": {
        "colab": {
          "base_uri": "https://localhost:8080/"
        },
        "id": "UR9mzagApQ4a",
        "outputId": "ce43b4f8-c0a5-4ae9-f885-18da36fba348"
      },
      "execution_count": 41,
      "outputs": [
        {
          "output_type": "execute_result",
          "data": {
            "text/plain": [
              "0.7733446519524618"
            ]
          },
          "metadata": {},
          "execution_count": 41
        }
      ]
    },
    {
      "cell_type": "code",
      "source": [
        "model.score(X_val, y_val)"
      ],
      "metadata": {
        "colab": {
          "base_uri": "https://localhost:8080/"
        },
        "id": "AMEJxq3MpXrz",
        "outputId": "1b90691f-7eb9-4792-bec8-806609b1af5a"
      },
      "execution_count": 42,
      "outputs": [
        {
          "output_type": "execute_result",
          "data": {
            "text/plain": [
              "0.7763157894736842"
            ]
          },
          "metadata": {},
          "execution_count": 42
        }
      ]
    },
    {
      "cell_type": "code",
      "source": [
        "model.predict(X_val).sum()"
      ],
      "metadata": {
        "colab": {
          "base_uri": "https://localhost:8080/"
        },
        "id": "D7hXZz6bYrYu",
        "outputId": "fc20f52d-73b1-41a9-efd8-cc83255aedf0"
      },
      "execution_count": 45,
      "outputs": [
        {
          "output_type": "execute_result",
          "data": {
            "text/plain": [
              "0"
            ]
          },
          "metadata": {},
          "execution_count": 45
        }
      ]
    },
    {
      "cell_type": "markdown",
      "source": [
        "Model niestety zgodnie z jego nazwą okazał się naiwny - ma wartość accuracy odpowiadającą wartości bazowej. Model zwraca same wartości zero."
      ],
      "metadata": {
        "id": "wCg8j9Qzp7JA"
      }
    },
    {
      "cell_type": "markdown",
      "source": [
        "### Regresja logistyczna"
      ],
      "metadata": {
        "id": "SpSsbfX-qSiD"
      }
    },
    {
      "cell_type": "code",
      "source": [
        "from sklearn.linear_model import LogisticRegression\n",
        "model = LogisticRegression(random_state=0).fit(X_train, y_train)\n",
        "\n",
        "\n",
        "model.score(X_train, y_train) "
      ],
      "metadata": {
        "colab": {
          "base_uri": "https://localhost:8080/"
        },
        "id": "0q8seA9xYMkL",
        "outputId": "645357b6-9b07-4e94-dbc5-3c2a6a334def"
      },
      "execution_count": 84,
      "outputs": [
        {
          "output_type": "execute_result",
          "data": {
            "text/plain": [
              "0.7733446519524618"
            ]
          },
          "metadata": {},
          "execution_count": 84
        }
      ]
    },
    {
      "cell_type": "code",
      "source": [
        "model.score(X_val, y_val) "
      ],
      "metadata": {
        "colab": {
          "base_uri": "https://localhost:8080/"
        },
        "id": "m4gLPmNAqrAc",
        "outputId": "cf189a24-b9b3-41b3-99d9-68d72fbc0f55"
      },
      "execution_count": 85,
      "outputs": [
        {
          "output_type": "execute_result",
          "data": {
            "text/plain": [
              "0.7763157894736842"
            ]
          },
          "metadata": {},
          "execution_count": 85
        }
      ]
    },
    {
      "cell_type": "markdown",
      "source": [
        "Zgodnie z przewidywaniami, model regresji logistycznej też był zbyt prosty, aby wychwycić złożone zależności w danych."
      ],
      "metadata": {
        "id": "zKZoy4eGqu5y"
      }
    },
    {
      "cell_type": "code",
      "source": [
        "import pickle\n",
        "filename = 'logistic_regression_model.pickle'\n",
        "pickle.dump(model, open(filename, 'wb'))"
      ],
      "metadata": {
        "id": "tgYS6vNFu-7V"
      },
      "execution_count": 86,
      "outputs": []
    },
    {
      "cell_type": "markdown",
      "source": [
        "### Las losowy"
      ],
      "metadata": {
        "id": "jDgQvFmhq5Tq"
      }
    },
    {
      "cell_type": "code",
      "source": [
        "from sklearn.ensemble import RandomForestClassifier\n",
        "model = RandomForestClassifier(random_state=0)\n",
        "model.fit(X_train, y_train)\n",
        "model.score(X_train, y_train)"
      ],
      "metadata": {
        "colab": {
          "base_uri": "https://localhost:8080/"
        },
        "id": "KMN5hCmoY7Ie",
        "outputId": "bf357a4d-08ef-4008-c33f-f4f2b7b271ed"
      },
      "execution_count": 78,
      "outputs": [
        {
          "output_type": "execute_result",
          "data": {
            "text/plain": [
              "0.997283531409168"
            ]
          },
          "metadata": {},
          "execution_count": 78
        }
      ]
    },
    {
      "cell_type": "code",
      "source": [
        "model.score(X_val, y_val)"
      ],
      "metadata": {
        "colab": {
          "base_uri": "https://localhost:8080/"
        },
        "id": "Tkmwg95LZb_e",
        "outputId": "a5c7f6a9-b91b-4724-81af-e0fbf96be6f0"
      },
      "execution_count": 79,
      "outputs": [
        {
          "output_type": "execute_result",
          "data": {
            "text/plain": [
              "0.9960526315789474"
            ]
          },
          "metadata": {},
          "execution_count": 79
        }
      ]
    },
    {
      "cell_type": "markdown",
      "source": [
        "Model lasu losowego osiaga bardzo wysoką skuteczność na zbiorze walidacyjnym - 99.6%. Dla zbiorów niezbalansowanych, często bada się też miarę AUC."
      ],
      "metadata": {
        "id": "T7NCDMWGrGma"
      }
    },
    {
      "cell_type": "code",
      "source": [
        " from sklearn.metrics import roc_auc_score\n",
        " roc_auc_score(y_val, model.predict_proba(X_val)[:,1])"
      ],
      "metadata": {
        "colab": {
          "base_uri": "https://localhost:8080/"
        },
        "id": "H61RQcr8rFyL",
        "outputId": "89a34c48-7055-4f3e-a3a8-5168056bf438"
      },
      "execution_count": 80,
      "outputs": [
        {
          "output_type": "execute_result",
          "data": {
            "text/plain": [
              "0.9999551345962114"
            ]
          },
          "metadata": {},
          "execution_count": 80
        }
      ]
    },
    {
      "cell_type": "markdown",
      "source": [
        "Miara AUC na zbiorze walidacyjnym wynosi praktycznie 1 czyli tyle ile wartość maksymalna."
      ],
      "metadata": {
        "id": "BeuZ5fBWr-sl"
      }
    },
    {
      "cell_type": "code",
      "source": [
        "from sklearn.metrics import confusion_matrix\n",
        "confusion_matrix(y_val, model.predict(X_val))"
      ],
      "metadata": {
        "colab": {
          "base_uri": "https://localhost:8080/"
        },
        "id": "ZubQNrDbsGhT",
        "outputId": "cbf39fb7-e92c-480f-97b0-0302c202cc4f"
      },
      "execution_count": 81,
      "outputs": [
        {
          "output_type": "execute_result",
          "data": {
            "text/plain": [
              "array([[590,   0],\n",
              "       [  3, 167]])"
            ]
          },
          "metadata": {},
          "execution_count": 81
        }
      ]
    },
    {
      "cell_type": "markdown",
      "source": [
        "Macierz pomyłek potwierdza, że stworzony model jest bardzo dobry. Pomylił się podczas predykcji jedynie 3 próbek."
      ],
      "metadata": {
        "id": "C47lmq3isTje"
      }
    },
    {
      "cell_type": "markdown",
      "source": [
        "Poniżej są dokładne parametry modelu. Z uwagi na to, że jego jakośc na zbiorze treningowym i walidacyjnym jest taka sama, można stwierdzić, że nie jest on przeuczony."
      ],
      "metadata": {
        "id": "K2tL948ZumXU"
      }
    },
    {
      "cell_type": "code",
      "source": [
        "model.get_params()"
      ],
      "metadata": {
        "colab": {
          "base_uri": "https://localhost:8080/"
        },
        "id": "VVvHs0AbuQnK",
        "outputId": "031afb46-101f-465c-9690-5f804d866e46"
      },
      "execution_count": 82,
      "outputs": [
        {
          "output_type": "execute_result",
          "data": {
            "text/plain": [
              "{'bootstrap': True,\n",
              " 'ccp_alpha': 0.0,\n",
              " 'class_weight': None,\n",
              " 'criterion': 'gini',\n",
              " 'max_depth': None,\n",
              " 'max_features': 'auto',\n",
              " 'max_leaf_nodes': None,\n",
              " 'max_samples': None,\n",
              " 'min_impurity_decrease': 0.0,\n",
              " 'min_samples_leaf': 1,\n",
              " 'min_samples_split': 2,\n",
              " 'min_weight_fraction_leaf': 0.0,\n",
              " 'n_estimators': 100,\n",
              " 'n_jobs': None,\n",
              " 'oob_score': False,\n",
              " 'random_state': 0,\n",
              " 'verbose': 0,\n",
              " 'warm_start': False}"
            ]
          },
          "metadata": {},
          "execution_count": 82
        }
      ]
    },
    {
      "cell_type": "code",
      "source": [
        "import pickle\n",
        "filename = 'random_forest_model.pickle'\n",
        "pickle.dump(model, open(filename, 'wb'))"
      ],
      "metadata": {
        "id": "qMCJywERuzfX"
      },
      "execution_count": 83,
      "outputs": []
    },
    {
      "cell_type": "markdown",
      "source": [
        "### Ciekawostka"
      ],
      "metadata": {
        "id": "P6WxClR-s0sb"
      }
    },
    {
      "cell_type": "markdown",
      "source": [
        "Postanowiliśmy sprawdzić jaki model zostanie wskazany jako optymalny z użyciem algorytmów AutoML z pakietu TPOT i HyperOpt."
      ],
      "metadata": {
        "id": "-kzMAJj_smJd"
      }
    },
    {
      "cell_type": "markdown",
      "source": [
        "## TPOT"
      ],
      "metadata": {
        "id": "OpUOcP75tFAZ"
      }
    },
    {
      "cell_type": "code",
      "source": [
        "!pip install tpot"
      ],
      "metadata": {
        "id": "ulpYkDYmaWdi"
      },
      "execution_count": null,
      "outputs": []
    },
    {
      "cell_type": "code",
      "source": [
        "from tpot import TPOTClassifier\n",
        "\n",
        "tpot = TPOTClassifier(generations=3,verbosity=2)\n",
        "\n",
        "tpot.fit(X_train, y_train)"
      ],
      "metadata": {
        "colab": {
          "base_uri": "https://localhost:8080/",
          "height": 173,
          "referenced_widgets": [
            "442be2f854d447e081e3b6d5b125248d",
            "7a7c3aa574644d1c8245de0e2d82e661",
            "7f241bd617334f49b620de52fa27411b",
            "77a01e1e0a7d499798ce1c729e0b3986",
            "d2aa9b1db6534e2a8e6703efff7fd4ae",
            "d831779d38cf4b27afaa6848391b4045",
            "fa2cd0447f7a41c6b9cc55625d416d6f",
            "72c85367b9ea4ad381035a32b94ca497",
            "ad0dcdf5e514455b86bbf358c56a08ae",
            "7367410acb084a5abc8f5610c91d79e5",
            "70351b93a10140b5808f6ff5a4197efd"
          ]
        },
        "id": "snaP2bhgZ19W",
        "outputId": "80f674ed-5048-45e9-b631-66ff36960284"
      },
      "execution_count": 12,
      "outputs": [
        {
          "output_type": "display_data",
          "data": {
            "text/plain": [
              "Optimization Progress:   0%|          | 0/400 [00:00<?, ?pipeline/s]"
            ],
            "application/vnd.jupyter.widget-view+json": {
              "version_major": 2,
              "version_minor": 0,
              "model_id": "442be2f854d447e081e3b6d5b125248d"
            }
          },
          "metadata": {}
        },
        {
          "output_type": "stream",
          "name": "stdout",
          "text": [
            "\n",
            "Generation 1 - Current best internal CV score: 0.7733446519524618\n",
            "\n",
            "Generation 2 - Current best internal CV score: 0.7735144312393887\n",
            "\n",
            "Generation 3 - Current best internal CV score: 0.7736842105263158\n",
            "\n",
            "Best pipeline: MLPClassifier(input_matrix, alpha=0.01, learning_rate_init=0.01)\n"
          ]
        },
        {
          "output_type": "execute_result",
          "data": {
            "text/plain": [
              "TPOTClassifier(generations=3, verbosity=2)"
            ]
          },
          "metadata": {},
          "execution_count": 12
        }
      ]
    },
    {
      "cell_type": "code",
      "source": [
        "tpot.score(X_train, y_train)"
      ],
      "metadata": {
        "colab": {
          "base_uri": "https://localhost:8080/"
        },
        "id": "iLPW4E-1aakR",
        "outputId": "5d576bda-88f1-440e-e494-d90908867cc3"
      },
      "execution_count": 13,
      "outputs": [
        {
          "output_type": "execute_result",
          "data": {
            "text/plain": [
              "0.7733446519524618"
            ]
          },
          "metadata": {},
          "execution_count": 13
        }
      ]
    },
    {
      "cell_type": "code",
      "source": [
        "tpot.score(X_val, y_val)"
      ],
      "metadata": {
        "colab": {
          "base_uri": "https://localhost:8080/"
        },
        "id": "h-CySPCUany6",
        "outputId": "6d31822c-67b7-41cf-f830-98860518c6db"
      },
      "execution_count": 14,
      "outputs": [
        {
          "output_type": "execute_result",
          "data": {
            "text/plain": [
              "0.7763157894736842"
            ]
          },
          "metadata": {},
          "execution_count": 14
        }
      ]
    },
    {
      "cell_type": "markdown",
      "source": [
        "Okazało się, że wskazany jako optymalny został model oparty na prostej sieci neuronowej typu perceptron wielowarstwowy. Niemniej jednak dokładność tego modelu odpowiada modelowi naiwnemu."
      ],
      "metadata": {
        "id": "BUlPZ9HPtLqR"
      }
    },
    {
      "cell_type": "code",
      "source": [
        ""
      ],
      "metadata": {
        "id": "xbksqftmbJ-9"
      },
      "execution_count": null,
      "outputs": []
    },
    {
      "cell_type": "markdown",
      "source": [
        "## HyperOpt"
      ],
      "metadata": {
        "id": "lr-LdtZrtdvW"
      }
    },
    {
      "cell_type": "code",
      "source": [
        "!pip install hyperopt"
      ],
      "metadata": {
        "id": "kkqPzHQdi0gW"
      },
      "execution_count": null,
      "outputs": []
    },
    {
      "cell_type": "code",
      "source": [
        "!pip install git+https://github.com/hyperopt/hyperopt-sklearn"
      ],
      "metadata": {
        "id": "16HQughCi2IQ"
      },
      "execution_count": null,
      "outputs": []
    },
    {
      "cell_type": "code",
      "source": [
        "from hpsklearn import HyperoptEstimator\n",
        "from hpsklearn import any_classifier, any_preprocessing\n",
        "from hyperopt import tpe"
      ],
      "metadata": {
        "id": "hPuVVIDei5RH"
      },
      "execution_count": 22,
      "outputs": []
    },
    {
      "cell_type": "markdown",
      "source": [
        "W ramach poszukiwania optymalnego rozwiązania, optymalizowany jest nie tylko wybór modelu ale także preprocessing."
      ],
      "metadata": {
        "id": "kVehf9tAt-K7"
      }
    },
    {
      "cell_type": "code",
      "source": [
        "model = HyperoptEstimator(classifier=any_classifier('cla'), preprocessing=any_preprocessing('pre'), algo=tpe.suggest, max_evals=10, trial_timeout=50000)\n",
        "\n",
        "model.fit(X_train, y_train)\n",
        "acc = model.score(X_val, y_val)\n",
        "print(\"Accuracy: %.3f\" % acc)\n",
        "print(model.best_model())"
      ],
      "metadata": {
        "colab": {
          "base_uri": "https://localhost:8080/"
        },
        "id": "yY-N94Gwi8xI",
        "outputId": "31c36c79-2e0d-48e9-cae5-49e0c9899747"
      },
      "execution_count": 27,
      "outputs": [
        {
          "output_type": "stream",
          "name": "stdout",
          "text": [
            "100%|██████████| 1/1 [00:00<00:00,  2.22trial/s, best loss: 0.37266553480475384]\n",
            "100%|██████████| 2/2 [00:05<00:00,  5.95s/trial, best loss: 0.22920203735144318]\n",
            "100%|██████████| 3/3 [00:28<00:00, 28.34s/trial, best loss: 0.22920203735144318]\n",
            "100%|██████████| 4/4 [00:03<00:00,  3.26s/trial, best loss: 0.22920203735144318]\n",
            "100%|██████████| 5/5 [00:17<00:00, 17.73s/trial, best loss: 0.22920203735144318]\n",
            "100%|██████████| 6/6 [00:01<00:00,  1.35s/trial, best loss: 0.22920203735144318]\n",
            "100%|██████████| 7/7 [00:00<00:00,  2.07trial/s, best loss: 0.22920203735144318]\n",
            "100%|██████████| 8/8 [00:00<00:00,  2.32trial/s, best loss: 0.22920203735144318]\n",
            "100%|██████████| 9/9 [00:00<00:00,  8.38trial/s, best loss: 0.22920203735144318]\n",
            "100%|██████████| 10/10 [00:00<00:00,  3.55trial/s, best loss: 0.22920203735144318]\n",
            "Accuracy: 0.776\n",
            "{'learner': SVC(C=1.2612590724982196, coef0=0.40225014748053256,\n",
            "    decision_function_shape='ovo', degree=5, gamma='auto', kernel='poly',\n",
            "    random_state=4, tol=0.00032053579174632675), 'preprocs': (MinMaxScaler(feature_range=(-1.0, 1.0)),), 'ex_preprocs': ()}\n"
          ]
        },
        {
          "output_type": "stream",
          "name": "stderr",
          "text": [
            "/usr/local/lib/python3.7/dist-packages/sklearn/base.py:451: UserWarning: X does not have valid feature names, but MinMaxScaler was fitted with feature names\n",
            "  \"X does not have valid feature names, but\"\n"
          ]
        }
      ]
    },
    {
      "cell_type": "markdown",
      "source": [
        "Okazało się, że jako optymalny został wskazany SVM. Niemniej jednak dokładność tego modelu odpowiada modelowi naiwnemu."
      ],
      "metadata": {
        "id": "p5LR-AQstoKs"
      }
    },
    {
      "cell_type": "markdown",
      "source": [
        "# Podsumowanie\n",
        "\n",
        "Algorytmy AUTOML nie potrafiły wytrenować modelu dobrej jakości w sytuacji niezbalansowania zbioru danych.\n",
        "Finalnie najlepszy model stanowi model lasu losowego, który popełnił na zbiorze walidacyjnym tylko 3 pomyłki, co przełożyło się na prawie maksymalną możliwą miarę accuracy i AUC. "
      ],
      "metadata": {
        "id": "MKQFXFK_tyVr"
      }
    },
    {
      "cell_type": "code",
      "source": [
        ""
      ],
      "metadata": {
        "id": "gR26gl0WkDr-"
      },
      "execution_count": null,
      "outputs": []
    }
  ]
}